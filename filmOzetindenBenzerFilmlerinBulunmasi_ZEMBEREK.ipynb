{
  "nbformat": 4,
  "nbformat_minor": 0,
  "metadata": {
    "colab": {
      "name": "filmOzetindenBenzerFilmlerinBulunmasi_ZEMBEREK",
      "provenance": [],
      "collapsed_sections": [],
      "machine_shape": "hm"
    },
    "kernelspec": {
      "name": "python3",
      "display_name": "Python 3"
    },
    "language_info": {
      "name": "python"
    },
    "gpuClass": "standard",
    "accelerator": "TPU"
  },
  "cells": [
    {
      "cell_type": "markdown",
      "source": [
        "Veri işleme ve analizi için pandas kütüphanesi kullanılacaktır. Pandas kütüphanesi pd rumuzu ile kısaltılmıştır."
      ],
      "metadata": {
        "id": "-IES9ZGkHVNH"
      }
    },
    {
      "cell_type": "code",
      "execution_count": 1,
      "metadata": {
        "id": "D4DSrSk9PiW8"
      },
      "outputs": [],
      "source": [
        "import pandas as pd"
      ]
    },
    {
      "cell_type": "markdown",
      "source": [
        "Verilerimiz Google Drive (bulut) üzerinde olduğu için Google Colab ile Google Drive arasında bağlantı kurulacaktır."
      ],
      "metadata": {
        "id": "-duDlDDyIIYp"
      }
    },
    {
      "cell_type": "code",
      "source": [
        "from google.colab import drive\n",
        "drive.mount('/content/drive/')"
      ],
      "metadata": {
        "colab": {
          "base_uri": "https://localhost:8080/"
        },
        "id": "g8ZpPY4-Pmv1",
        "outputId": "16f5cb31-275b-439a-e694-07deec6daa19"
      },
      "execution_count": 2,
      "outputs": [
        {
          "output_type": "stream",
          "name": "stdout",
          "text": [
            "Mounted at /content/drive/\n"
          ]
        }
      ]
    },
    {
      "cell_type": "markdown",
      "source": [
        "Google Drive içinde Colab Notebooks klasörünün içinde TDDI2022 isimli klasörde verilerimizi sakladığımız için bu klasöre erişilecektir.\n",
        "\n",
        "***NOT:*** Bu klasörü daha önce oluşturmadıysanız %md TDDI2022 komutu veya Google Drive Ara Yüzü ile klasörü oluşturunuz!"
      ],
      "metadata": {
        "id": "gmXrHZE_IShv"
      }
    },
    {
      "cell_type": "code",
      "source": [
        "%cd drive/\n",
        "%cd MyDrive/\n",
        "%cd Colab Notebooks/\n",
        "# Google Drive içinde Colab Notebooks klasörünün içinde TDDI2022 diye bir klasör oluşturduktan sonra o klasöre erişiyoruz.\n",
        "# Bu klasörü daha önce oluşturmadıysanız %md TDDI2022 komutu veya Google Drive Ara Yüzü ile klasörü oluşturunuz!\n",
        "%cd TDDI2022/\n",
        "\n",
        "# Klasörün içeriğinin görülmesi için\n",
        "%ls"
      ],
      "metadata": {
        "id": "h47_PvbxT9QD"
      },
      "execution_count": null,
      "outputs": []
    },
    {
      "cell_type": "markdown",
      "source": [
        "**Google Colab Pro** Hizmetlerinden yararlanarak hem daha iyi Grafik İşlem Birimine (GPU) hem de daha yüksek bellek birimine (RAM) erişerek büyük veriyi işleyeceğiz. Google Colab Pro hesabını verimli kullanmak için sadece gerektiğinde **'Çalışma zamanı'** menüsünden **'Çalışma zamanı türünü değiştir'** diyerek GPU/TPU ve Yüksek RAM seçeneklerini kullanacağız."
      ],
      "metadata": {
        "id": "fxLvlwyHzbvt"
      }
    },
    {
      "cell_type": "code",
      "source": [
        "import tensorflow as tf\n",
        "device_name = tf.test.gpu_device_name()\n",
        "if device_name != '/device:GPU:0':\n",
        "  print('GPU aracı bulunamadı!') # Gereksiz kullanım olmaması ve Google Colab PRO hesabımızı verimli kullanmak için şimdilik sadece yüksek RAM'de çalışıyoruz.\n",
        "else:\n",
        "  print('GPU bulundu: {}'.format(device_name))"
      ],
      "metadata": {
        "colab": {
          "base_uri": "https://localhost:8080/"
        },
        "id": "9a0r4dkM4-59",
        "outputId": "a2eab61e-2e3c-4fd5-e9bb-ec5595d6e5b6"
      },
      "execution_count": 4,
      "outputs": [
        {
          "output_type": "stream",
          "name": "stdout",
          "text": [
            "GPU aracı bulunamadı!\n"
          ]
        }
      ]
    },
    {
      "cell_type": "code",
      "source": [
        "gpu_info = !nvidia-smi\n",
        "gpu_info = '\\n'.join(gpu_info)\n",
        "if gpu_info.find('failed') >= 0:\n",
        "  print('Bir GPU\\'ya bağlanılamadı!')\n",
        "else:\n",
        "  print(gpu_info)\n",
        "\n",
        "from psutil import virtual_memory\n",
        "ram_gb = virtual_memory().total / 1e9\n",
        "print('Çalışma zamanınız {:.1f} gigabytes\\'lık RAM\\'a sahip\\n'.format(ram_gb))\n",
        "\n",
        "if ram_gb < 20:\n",
        "  print('Yüksek bir RAM Çalışma Zamanı KULLANMIYORSUNUZ!')\n",
        "else:\n",
        "  print('Yüksek bir RAM Çalışma Zamanı Kullanıyorsunuz!')"
      ],
      "metadata": {
        "colab": {
          "base_uri": "https://localhost:8080/"
        },
        "id": "DmlTqrQ6za2t",
        "outputId": "e95907ac-8994-4a0c-deb8-f636d7e6405a"
      },
      "execution_count": 5,
      "outputs": [
        {
          "output_type": "stream",
          "name": "stdout",
          "text": [
            "Bir GPU'ya bağlanılamadı!\n",
            "Çalışma zamanınız 37.8 gigabytes'lık RAM'a sahip\n",
            "\n",
            "Yüksek bir RAM Çalışma Zamanı Kullanıyorsunuz!\n"
          ]
        }
      ]
    },
    {
      "cell_type": "markdown",
      "source": [
        "TDDI2022 klasöründe bulunan ve proje kapsamında oluşturulan **filmOzetleriVeriKumesi_TURKCE.csv** dosyasının içindeki veriler **veri İskeleti** oluşturmak için pandas ile okunacaktır.\n",
        "\n",
        "Veri iskeleti oluşturulduktan sonra veri iskeleti ile ilgili bilgi ekrana yazdırılacaktır. Tam özetin yazdırılıp yazdırılmayacağı durumunu *verbose=True* (yazdırılsın) parametresi ile kontrol edilecektir. "
      ],
      "metadata": {
        "id": "_2QYxVBFIaZg"
      }
    },
    {
      "cell_type": "code",
      "source": [
        "df = pd.read_csv('filmOzetleriVeriKumesi_TURKCE.csv')\n",
        "df.info(verbose=True)"
      ],
      "metadata": {
        "id": "ZMriHlEGPqbV",
        "colab": {
          "base_uri": "https://localhost:8080/"
        },
        "outputId": "40ea4900-20af-4654-e9e7-fbd440b95661"
      },
      "execution_count": 6,
      "outputs": [
        {
          "output_type": "stream",
          "name": "stdout",
          "text": [
            "<class 'pandas.core.frame.DataFrame'>\n",
            "RangeIndex: 34886 entries, 0 to 34885\n",
            "Data columns (total 9 columns):\n",
            " #   Column          Non-Null Count  Dtype \n",
            "---  ------          --------------  ----- \n",
            " 0   Unnamed: 0      34886 non-null  int64 \n",
            " 1   Çıkış Yılı      34886 non-null  int64 \n",
            " 2   Orijinal İsmi   34886 non-null  object\n",
            " 3   Yapıldığı Ülke  34886 non-null  object\n",
            " 4   Yönetmeni       34886 non-null  object\n",
            " 5   Oyuncu Kadrosu  33464 non-null  object\n",
            " 6   Türü            34858 non-null  object\n",
            " 7   Veri Kaynağı    34886 non-null  object\n",
            " 8   Olay Dizisi     34886 non-null  object\n",
            "dtypes: int64(2), object(7)\n",
            "memory usage: 2.4+ MB\n"
          ]
        }
      ]
    },
    {
      "cell_type": "markdown",
      "source": [
        "Unnamed: 0 isimli sütun / alan proje kapsamında kullanılması zorunlu olan veri içermediği için silinecektir."
      ],
      "metadata": {
        "id": "g0h1Dkzo7nE-"
      }
    },
    {
      "cell_type": "code",
      "source": [
        "df = df.drop(columns='Unnamed: 0')\n",
        "df.info(verbose=True)"
      ],
      "metadata": {
        "colab": {
          "base_uri": "https://localhost:8080/"
        },
        "id": "RmGgRutS76XU",
        "outputId": "7941685d-7910-4c72-bcc8-051a65538e1e"
      },
      "execution_count": 7,
      "outputs": [
        {
          "output_type": "stream",
          "name": "stdout",
          "text": [
            "<class 'pandas.core.frame.DataFrame'>\n",
            "RangeIndex: 34886 entries, 0 to 34885\n",
            "Data columns (total 8 columns):\n",
            " #   Column          Non-Null Count  Dtype \n",
            "---  ------          --------------  ----- \n",
            " 0   Çıkış Yılı      34886 non-null  int64 \n",
            " 1   Orijinal İsmi   34886 non-null  object\n",
            " 2   Yapıldığı Ülke  34886 non-null  object\n",
            " 3   Yönetmeni       34886 non-null  object\n",
            " 4   Oyuncu Kadrosu  33464 non-null  object\n",
            " 5   Türü            34858 non-null  object\n",
            " 6   Veri Kaynağı    34886 non-null  object\n",
            " 7   Olay Dizisi     34886 non-null  object\n",
            "dtypes: int64(1), object(7)\n",
            "memory usage: 2.1+ MB\n"
          ]
        }
      ]
    },
    {
      "cell_type": "markdown",
      "source": [
        "Bellek ve işlem gücünden tasarruf etmek için df['Olay Dizisi'] alanında veri ön işlemleri yapmamız gerekiyor.\n",
        "\n",
        "**Kaynaklar:**\n",
        "* https://practicaldatascience.co.uk/machine-learning/how-to-preprocess-text-for-nlp-in-four-easy-steps"
      ],
      "metadata": {
        "id": "whkSb47-l036"
      }
    },
    {
      "cell_type": "markdown",
      "source": [
        "Film ararken işe yaramayacak \\n \\r \\\\ veya benzer karakterler veri iskeletinden temizlenecektir. "
      ],
      "metadata": {
        "id": "drTU7NWSIjin"
      }
    },
    {
      "cell_type": "code",
      "source": [
        "df = df.replace('  ','')\n",
        "df = df.replace(' ','')\n",
        "df = df.replace('.','')\n",
        "df = df.replace(':','')\n",
        "df = df.replace('\\\\','')\n",
        "df = df.replace('\\n','')\n",
        "df = df.replace('\\r','')\n",
        "df = df.replace('i̇','i')\n",
        "df = df.replace('ý','ı')"
      ],
      "metadata": {
        "id": "ttq0BAf2KQ3_"
      },
      "execution_count": 8,
      "outputs": []
    },
    {
      "cell_type": "markdown",
      "source": [
        "Özellikle olay dizisi orijinal kaynağı wiki olduğu için atıflardan kaynaklı [1] ve [2] gibi girdilere sahiptir. Bunları da temizlememiz gerekmektedir."
      ],
      "metadata": {
        "id": "-wY76O4oxy4p"
      }
    },
    {
      "cell_type": "code",
      "source": [
        "df['Olay Dizisi'] = df['Olay Dizisi'].replace('1','')\n",
        "df['Olay Dizisi'] = df['Olay Dizisi'].replace('2','')\n",
        "df['Olay Dizisi'] = df['Olay Dizisi'].replace('3','')\n",
        "df['Olay Dizisi'] = df['Olay Dizisi'].replace('4','')\n",
        "df['Olay Dizisi'] = df['Olay Dizisi'].replace('5','')\n",
        "df['Olay Dizisi'] = df['Olay Dizisi'].replace('6','')\n",
        "df['Olay Dizisi'] = df['Olay Dizisi'].replace('7','')\n",
        "df['Olay Dizisi'] = df['Olay Dizisi'].replace('8','')\n",
        "df['Olay Dizisi'] = df['Olay Dizisi'].replace('9','')\n",
        "df['Olay Dizisi'] = df['Olay Dizisi'].replace('[','')\n",
        "df['Olay Dizisi'] = df['Olay Dizisi'].replace(']','')"
      ],
      "metadata": {
        "id": "rUZU0umBxyCD"
      },
      "execution_count": 9,
      "outputs": []
    },
    {
      "cell_type": "markdown",
      "source": [
        "Özetten arama yapmak için istediğimiz özelliklerin olduğu bir film girdisi yapılacaktır.\n",
        "\n",
        "Örnek girdi \"çalışmak için gökyüzünde ev yapan insanın herkesle iyi geçinmesi\" olsun ve bu girdiye göre elimizdeki film listesinden film önerisi yapmaya çalışalım. Ayrıca büyük küçük harf ile ilgili farklılıklar yaşamamak için her zaman küçük harf olarak çalışalım."
      ],
      "metadata": {
        "id": "GSnisE3S_Czz"
      }
    },
    {
      "cell_type": "code",
      "source": [
        "arananFilmOzeti = 'çalışmak için gökyüzünde ev yapan insanın herkesle iyi geçinmesi'.lower()"
      ],
      "metadata": {
        "id": "LiGJu3jZAP17"
      },
      "execution_count": 63,
      "outputs": []
    },
    {
      "cell_type": "markdown",
      "source": [
        "Aramayı yapmadan önce arananFilmOzeti içinde gereksiz kelime bırakmayalım. Simgeleştirme (tokenize) için de Türkçe'ye uyumlu bir kelime simgeleştirici (word tokenizer) kullanalım.\n",
        "\n",
        "**Kaynaklar:** \n",
        "\n",
        "* https://www.veribilimiokulu.com/natural-language-toolkitnltk/\n",
        "* https://medium.com/kodcular/do%C4%9Fal-dil-i%CC%87%C5%9Fleme-nedir-uygulamal%C4%B1-%C3%B6rnek-b8eb15af7fd5\n",
        "* https://melikebektas95.medium.com/zemberek-k%C3%BCt%C3%BCphanesi-ile-t%C3%BCrk%C3%A7e-metinlerde-kelime-k%C3%B6klerinin-bulunmas%C4%B1-6ddd3a875d5f"
      ],
      "metadata": {
        "id": "Xx00ndM8AV3j"
      }
    },
    {
      "cell_type": "markdown",
      "source": [
        "Türkçe öz bulma için Zemberek'i kurup deneme yapıyoruz.\n",
        "\n",
        "**Kaynaklar:**\n",
        "* https://github.com/otuncelli/turkish-stemmer-python\n",
        "* https://snowballstem.org/algorithms/turkish/stemmer.html\n",
        "* https://www.nltk.org/howto/stem.html"
      ],
      "metadata": {
        "id": "WmWtwss0tZQV"
      }
    },
    {
      "cell_type": "code",
      "source": [
        "!pip install zemberek-python\n",
        "\n",
        "from zemberek import TurkishMorphology\n",
        "\n",
        "ozBulucu = TurkishMorphology.create_with_defaults()\n",
        "\n",
        "kelimeler = ['kalem','ilişkilendiremediklerimiz','gözlük',' gözlem']\n",
        "\n",
        "for kelime in kelimeler:\n",
        "  kelime = str(ozBulucu.analyze(kelime))\n",
        "  print(kelime)\n",
        "  print(kelime[kelime.find('analysisResults=[')+17:kelime.find(':')])"
      ],
      "metadata": {
        "colab": {
          "base_uri": "https://localhost:8080/"
        },
        "id": "sunwTqY5qGFO",
        "outputId": "219d67eb-7cc5-4ce3-da27-86f19973c160"
      },
      "execution_count": 11,
      "outputs": [
        {
          "output_type": "stream",
          "name": "stdout",
          "text": [
            "Looking in indexes: https://pypi.org/simple, https://us-python.pkg.dev/colab-wheels/public/simple/\n",
            "Collecting zemberek-python\n",
            "  Downloading zemberek_python-0.1.3-py3-none-any.whl (93.6 MB)\n",
            "\u001b[K     |████████████████████████████████| 93.6 MB 1.7 MB/s \n",
            "\u001b[?25hRequirement already satisfied: numpy>=1.19.0 in /usr/local/lib/python3.7/dist-packages (from zemberek-python) (1.21.6)\n",
            "Collecting antlr4-python3-runtime==4.8\n",
            "  Downloading antlr4-python3-runtime-4.8.tar.gz (112 kB)\n",
            "\u001b[K     |████████████████████████████████| 112 kB 61.9 MB/s \n",
            "\u001b[?25hBuilding wheels for collected packages: antlr4-python3-runtime\n",
            "  Building wheel for antlr4-python3-runtime (setup.py) ... \u001b[?25l\u001b[?25hdone\n",
            "  Created wheel for antlr4-python3-runtime: filename=antlr4_python3_runtime-4.8-py3-none-any.whl size=141230 sha256=82a16dfd61583729e179647d3ed194479ffafcafa4c3ebe95f51a7631099199d\n",
            "  Stored in directory: /root/.cache/pip/wheels/ca/33/b7/336836125fc9bb4ceaa4376d8abca10ca8bc84ddc824baea6c\n",
            "Successfully built antlr4-python3-runtime\n",
            "Installing collected packages: antlr4-python3-runtime, zemberek-python\n",
            "Successfully installed antlr4-python3-runtime-4.8 zemberek-python-0.1.3\n"
          ]
        },
        {
          "output_type": "stream",
          "name": "stderr",
          "text": [
            "INFO:zemberek.morphology.turkish_morphology:TurkishMorphology instance initialized in 9.88522458076477\n"
          ]
        },
        {
          "output_type": "stream",
          "name": "stdout",
          "text": [
            "2022-08-18 09:11:59,328 - zemberek.morphology.turkish_morphology - INFO\n",
            "Msg: TurkishMorphology instance initialized in 9.88522458076477\n",
            "\n",
            "WordAnalysis{input='kalem', normalizedInput='kalem', analysisResults=[Kale:Noun, Prop] kale:Noun+A3sg+m:P1sg [kale:Noun] kale:Noun+A3sg+m:P1sg [kalem:Noun] kalem:Noun+A3sg}\n",
            "Kale\n",
            "WordAnalysis{input='ilişkilendiremediklerimiz', normalizedInput='ilişkilendiremediklerimiz', analysisResults=[ilişki:Noun] ilişki:Noun+A3sg|len:Acquire→Verb|dir:Caus→Verb+eme:Unable|dik:PastPart→Noun+ler:A3pl+imiz:P1pl}\n",
            "ilişki\n",
            "WordAnalysis{input='gözlük', normalizedInput='gözlük', analysisResults=[gözlük:Noun] gözlük:Noun+A3sg [göz:Noun] göz:Noun+A3sg|lük:Ness→Noun+A3sg}\n",
            "gözlük\n",
            "WordAnalysis{input='gözlem', normalizedInput='gözlem', analysisResults=[gözlem:Noun] gözlem:Noun+A3sg [Gözlem:Noun, Prop] gözlem:Noun+A3sg}\n",
            "gözlem\n"
          ]
        }
      ]
    },
    {
      "cell_type": "markdown",
      "source": [
        "Zemberek'in sonuçları bizim için çok iyi ama maliyet etkinliği zaman açısından çok pahalı geldi. Türkçe'ye uyumlu diğer öz / kök bulucu araçları deniyoruz.\n",
        "\n",
        "**Kaynaklar:**\n",
        "* https://nlp.stanford.edu/IR-book/html/htmledition/stemming-and-lemmatization-1.html\n",
        "* https://www.tutorialspoint.com/natural_language_toolkit/natural_language_toolkit_stemming_lemmatization.htm"
      ],
      "metadata": {
        "id": "H0vje07VaRSp"
      }
    },
    {
      "cell_type": "code",
      "source": [
        "testEdilecekKelimeler = ['kalem','ilişkilendiremediklerimiz','gözlük','gözlem']\n",
        "print('Test edilecek kelimeler:',testEdilecekKelimeler)\n",
        "print('Kök Bulma YÖNTEM 1 - snowballstemmer','\\n',50*'-',sep='')\n",
        "!pip install snowballstemmer\n",
        "from snowballstemmer import TurkishStemmer\n",
        "turkStem = TurkishStemmer()\n",
        "testSonucu = []\n",
        "for kelime in testEdilecekKelimeler:\n",
        "  testSonucu.append(turkStem.stemWord(kelime))\n",
        "print(testSonucu,'\\n\\n\\n')\n",
        "\n",
        "print('Kök Bulma YÖNTEM 2 - nltk','\\n',50*'-',sep='')\n",
        "!pip install nltk\n",
        "from nltk.stem import PorterStemmer\n",
        "ps=PorterStemmer()\n",
        "testSonucu = []\n",
        "for kelime in testEdilecekKelimeler:\n",
        "  testSonucu.append(ps.stem(kelime))\n",
        "print(testSonucu,'\\n\\n\\n')\n",
        "\n",
        "print('Kök Bulma YÖNTEM 3 - TurkishStemmer','\\n',50*'-',sep='')\n",
        "!pip install TurkishStemmer\n",
        "from TurkishStemmer import TurkishStemmer\n",
        "stemmer = TurkishStemmer()\n",
        "testSonucu = []\n",
        "for kelime in testEdilecekKelimeler:\n",
        "  testSonucu.append(stemmer.stem(kelime))\n",
        "print(testSonucu,'\\n\\n\\n')\n",
        "\n",
        "print('Kök Bulma YÖNTEM 4 - WordNetLemmatizer','\\n',50*'-',sep='')\n",
        "import nltk\n",
        "nltk.download('wordnet')\n",
        "nltk.download('omw-1.4')\n",
        "from nltk.stem import WordNetLemmatizer\n",
        "lemmatizer = WordNetLemmatizer()\n",
        "testSonucu = []\n",
        "for kelime in testEdilecekKelimeler:\n",
        "  testSonucu.append(lemmatizer.lemmatize(kelime))\n",
        "print(testSonucu,'\\n\\n\\n')\n",
        "\n",
        "print('Kök Bulma YÖNTEM 5 - LancasterStemmer','\\n',50*'-',sep='')\n",
        "import nltk\n",
        "from nltk.stem import LancasterStemmer\n",
        "stemmer = LancasterStemmer()\n",
        "testSonucu = []\n",
        "for kelime in testEdilecekKelimeler:\n",
        "  testSonucu.append(stemmer.stem(kelime))\n",
        "print(testSonucu,'\\n\\n\\n')\n",
        "\n",
        "print('Kök Bulma YÖNTEM 6 - RegexpStemmer','\\n',50*'-',sep='')\n",
        "import nltk\n",
        "from nltk.stem import RegexpStemmer\n",
        "stemmer = RegexpStemmer('tr')\n",
        "testSonucu = []\n",
        "for kelime in testEdilecekKelimeler:\n",
        "  testSonucu.append(stemmer.stem(kelime))\n",
        "print(testSonucu,'\\n\\n\\n')\n",
        "\n",
        "\n"
      ],
      "metadata": {
        "colab": {
          "base_uri": "https://localhost:8080/"
        },
        "id": "nKnCn-qNdDk4",
        "outputId": "a272f8f4-26ef-46c4-d6ab-d7a996f4eb43"
      },
      "execution_count": 12,
      "outputs": [
        {
          "output_type": "stream",
          "name": "stdout",
          "text": [
            "Test edilecek kelimeler: ['kalem', 'ilişkilendiremediklerimiz', 'gözlük', 'gözlem']\n",
            "Kök Bulma YÖNTEM 1 - snowballstemmer\n",
            "--------------------------------------------------\n",
            "Looking in indexes: https://pypi.org/simple, https://us-python.pkg.dev/colab-wheels/public/simple/\n",
            "Requirement already satisfied: snowballstemmer in /usr/local/lib/python3.7/dist-packages (2.2.0)\n",
            "['kale', 'ilişkilendiremedik', 'gözlük', 'gözle'] \n",
            "\n",
            "\n",
            "\n",
            "Kök Bulma YÖNTEM 2 - nltk\n",
            "--------------------------------------------------\n",
            "Looking in indexes: https://pypi.org/simple, https://us-python.pkg.dev/colab-wheels/public/simple/\n",
            "Requirement already satisfied: nltk in /usr/local/lib/python3.7/dist-packages (3.7)\n",
            "Requirement already satisfied: tqdm in /usr/local/lib/python3.7/dist-packages (from nltk) (4.64.0)\n",
            "Requirement already satisfied: joblib in /usr/local/lib/python3.7/dist-packages (from nltk) (1.1.0)\n",
            "Requirement already satisfied: click in /usr/local/lib/python3.7/dist-packages (from nltk) (7.1.2)\n",
            "Requirement already satisfied: regex>=2021.8.3 in /usr/local/lib/python3.7/dist-packages (from nltk) (2022.6.2)\n",
            "['kalem', 'ilişkilendiremediklerimiz', 'gözlük', 'gözlem'] \n",
            "\n",
            "\n",
            "\n",
            "Kök Bulma YÖNTEM 3 - TurkishStemmer\n",
            "--------------------------------------------------\n",
            "Looking in indexes: https://pypi.org/simple, https://us-python.pkg.dev/colab-wheels/public/simple/\n",
            "Collecting TurkishStemmer\n",
            "  Downloading TurkishStemmer-1.3-py3-none-any.whl (20 kB)\n",
            "Installing collected packages: TurkishStemmer\n",
            "Successfully installed TurkishStemmer-1.3\n",
            "['kalem', 'ilişkilendiremedik', 'gözlük', 'gözle'] \n",
            "\n",
            "\n",
            "\n",
            "Kök Bulma YÖNTEM 4 - WordNetLemmatizer\n",
            "--------------------------------------------------\n"
          ]
        },
        {
          "output_type": "stream",
          "name": "stderr",
          "text": [
            "[nltk_data] Downloading package wordnet to /root/nltk_data...\n",
            "[nltk_data] Downloading package omw-1.4 to /root/nltk_data...\n"
          ]
        },
        {
          "output_type": "stream",
          "name": "stdout",
          "text": [
            "['kalem', 'ilişkilendiremediklerimiz', 'gözlük', 'gözlem'] \n",
            "\n",
            "\n",
            "\n",
            "Kök Bulma YÖNTEM 5 - LancasterStemmer\n",
            "--------------------------------------------------\n",
            "['kalem', 'ilişkilendiremediklerim', 'gözlük', 'gözlem'] \n",
            "\n",
            "\n",
            "\n",
            "Kök Bulma YÖNTEM 6 - RegexpStemmer\n",
            "--------------------------------------------------\n",
            "['kalem', 'ilişkilendiremediklerimiz', 'gözlük', 'gözlem'] \n",
            "\n",
            "\n",
            "\n"
          ]
        }
      ]
    },
    {
      "cell_type": "markdown",
      "source": [
        "Alternatif Kök Bulma Yöntemlerinin \"ilişkilendiremediklerimiz\" kelimesini ZEMBEREK'in yaptığı gibi \"ilişki\" olarak özüne indirememesinden ötürü ZEMBEREK ile devam etmeyi seçtik.\n",
        "Gereksiz kelimeleri çıkartıyoruz. (Tokenizer olarak Türkçe'ye daha uyumlu olan TrTokenizer kullanıyoruz)\n",
        "\n",
        "**Kaynaklar:**\n",
        "* https://github.com/apdullahyayik/TrTokenizer\n",
        "* https://pythonprogramming.net/stop-words-nltk-tutorial/"
      ],
      "metadata": {
        "id": "4BDNqT9AtiAe"
      }
    },
    {
      "cell_type": "code",
      "source": [
        "!pip install trtokenizer\n",
        "from trtokenizer.tr_tokenizer import SentenceTokenizer, WordTokenizer\n",
        "\n",
        "cumleSimgelestirmeNesnesi = SentenceTokenizer()\n",
        "kelimeSimgelestirmeNesnesi = WordTokenizer()"
      ],
      "metadata": {
        "colab": {
          "base_uri": "https://localhost:8080/"
        },
        "id": "m0CYjfd-ImgA",
        "outputId": "206e7140-a948-422d-fb19-4ac33a47d857"
      },
      "execution_count": 13,
      "outputs": [
        {
          "output_type": "stream",
          "name": "stdout",
          "text": [
            "Looking in indexes: https://pypi.org/simple, https://us-python.pkg.dev/colab-wheels/public/simple/\n",
            "Collecting trtokenizer\n",
            "  Downloading trtokenizer-0.0.3-py3-none-any.whl (7.7 kB)\n",
            "Requirement already satisfied: regex in /usr/local/lib/python3.7/dist-packages (from trtokenizer) (2022.6.2)\n",
            "Installing collected packages: trtokenizer\n",
            "Successfully installed trtokenizer-0.0.3\n"
          ]
        }
      ]
    },
    {
      "cell_type": "code",
      "source": [
        "# Gereksiz kelimeleri çıkartıyoruz\n",
        "import nltk\n",
        "nltk.download('stopwords') # Gereksiz Kelimeler\n",
        "nltk.download('punkt')     # Noktalama İşaretleri\n",
        "from nltk.corpus import stopwords\n",
        "\n",
        "gereksizler = set(stopwords.words('turkish'))\n",
        "cumle = ' '\n",
        "kelimeler = kelimeSimgelestirmeNesnesi.tokenize(cumle.join(cumleSimgelestirmeNesnesi.tokenize(arananFilmOzeti)))\n",
        "gereksizKelimelerCikarilmisArananFilmOzeti = []\n",
        " \n",
        "for k in kelimeler:\n",
        "    if k not in gereksizler:\n",
        "        gereksizKelimelerCikarilmisArananFilmOzeti.append(k)\n",
        " \n",
        "print(gereksizKelimelerCikarilmisArananFilmOzeti)"
      ],
      "metadata": {
        "colab": {
          "base_uri": "https://localhost:8080/"
        },
        "id": "yn8Bq1Q8CNjr",
        "outputId": "d5207b23-f1d2-4743-f42c-76187120fe18"
      },
      "execution_count": 64,
      "outputs": [
        {
          "output_type": "stream",
          "name": "stdout",
          "text": [
            "['çalışmak', 'gökyüzünde', 'ev', 'yapan', 'insanın', 'herkesle', 'iyi', 'geçinmesi']\n"
          ]
        },
        {
          "output_type": "stream",
          "name": "stderr",
          "text": [
            "[nltk_data] Downloading package stopwords to /root/nltk_data...\n",
            "[nltk_data]   Package stopwords is already up-to-date!\n",
            "[nltk_data] Downloading package punkt to /root/nltk_data...\n",
            "[nltk_data]   Package punkt is already up-to-date!\n"
          ]
        }
      ]
    },
    {
      "cell_type": "markdown",
      "source": [
        "Veri Kümemizde de işlemler yapmamız gerekiyor. Önce simgeleştirme yapmak için bir fonksiyon yazıp veri iskeletinde 'olay dizisi' sütununda yer alan film özetlerimizi kelime kelime ayırıyoruz."
      ],
      "metadata": {
        "id": "13vKVnslUDWJ"
      }
    },
    {
      "cell_type": "code",
      "source": [
        "def simgelestir(sutun):\n",
        "  simgelesitirilmisSutundakiler = kelimeSimgelestirmeNesnesi.tokenize(sutun)\n",
        "  return list(set([w.lower() for w in simgelesitirilmisSutundakiler if w.isalpha()]))"
      ],
      "metadata": {
        "id": "ACpsAEdwmDMO"
      },
      "execution_count": 15,
      "outputs": []
    },
    {
      "cell_type": "code",
      "source": [
        "df['simgelestirilmis'] = df.apply(lambda x: simgelestir(x['Olay Dizisi']), axis=1)\n",
        "df[['Orijinal İsmi', 'simgelestirilmis']].head(5)"
      ],
      "metadata": {
        "colab": {
          "base_uri": "https://localhost:8080/",
          "height": 206
        },
        "id": "SnEvPpoWsSFH",
        "outputId": "c49fc6d8-0868-45b4-8118-97688d7acdbc"
      },
      "execution_count": 16,
      "outputs": [
        {
          "output_type": "execute_result",
          "data": {
            "text/plain": [
              "                      Orijinal İsmi  \\\n",
              "0            Kansas Saloon Smashers   \n",
              "1     Love by the Light of the Moon   \n",
              "2           The Martyred Presidents   \n",
              "3  Terrible Teddy, the Grizzly King   \n",
              "4            Jack and the Beanstalk   \n",
              "\n",
              "                                    simgelestirilmis  \n",
              "0  [daha, çıkmadan, müşterilere, nation, carrie, ...  \n",
              "1  [yukarı, daha, gökyüzünü, neden, ve, kadının, ...  \n",
              "2  [daha, uzun, portalı, ve, üç, garfield, sekiz,...  \n",
              "3  [çekimin, kadar, çekime, eden, temsil, başkan,...  \n",
              "4  [yukarı, onu, daha, kıl, kovalar, kadar, zorla...  "
            ],
            "text/html": [
              "\n",
              "  <div id=\"df-7b7976ba-ddc5-48ba-a626-f8c2cf1bc4f5\">\n",
              "    <div class=\"colab-df-container\">\n",
              "      <div>\n",
              "<style scoped>\n",
              "    .dataframe tbody tr th:only-of-type {\n",
              "        vertical-align: middle;\n",
              "    }\n",
              "\n",
              "    .dataframe tbody tr th {\n",
              "        vertical-align: top;\n",
              "    }\n",
              "\n",
              "    .dataframe thead th {\n",
              "        text-align: right;\n",
              "    }\n",
              "</style>\n",
              "<table border=\"1\" class=\"dataframe\">\n",
              "  <thead>\n",
              "    <tr style=\"text-align: right;\">\n",
              "      <th></th>\n",
              "      <th>Orijinal İsmi</th>\n",
              "      <th>simgelestirilmis</th>\n",
              "    </tr>\n",
              "  </thead>\n",
              "  <tbody>\n",
              "    <tr>\n",
              "      <th>0</th>\n",
              "      <td>Kansas Saloon Smashers</td>\n",
              "      <td>[daha, çıkmadan, müşterilere, nation, carrie, ...</td>\n",
              "    </tr>\n",
              "    <tr>\n",
              "      <th>1</th>\n",
              "      <td>Love by the Light of the Moon</td>\n",
              "      <td>[yukarı, daha, gökyüzünü, neden, ve, kadının, ...</td>\n",
              "    </tr>\n",
              "    <tr>\n",
              "      <th>2</th>\n",
              "      <td>The Martyred Presidents</td>\n",
              "      <td>[daha, uzun, portalı, ve, üç, garfield, sekiz,...</td>\n",
              "    </tr>\n",
              "    <tr>\n",
              "      <th>3</th>\n",
              "      <td>Terrible Teddy, the Grizzly King</td>\n",
              "      <td>[çekimin, kadar, çekime, eden, temsil, başkan,...</td>\n",
              "    </tr>\n",
              "    <tr>\n",
              "      <th>4</th>\n",
              "      <td>Jack and the Beanstalk</td>\n",
              "      <td>[yukarı, onu, daha, kıl, kovalar, kadar, zorla...</td>\n",
              "    </tr>\n",
              "  </tbody>\n",
              "</table>\n",
              "</div>\n",
              "      <button class=\"colab-df-convert\" onclick=\"convertToInteractive('df-7b7976ba-ddc5-48ba-a626-f8c2cf1bc4f5')\"\n",
              "              title=\"Convert this dataframe to an interactive table.\"\n",
              "              style=\"display:none;\">\n",
              "        \n",
              "  <svg xmlns=\"http://www.w3.org/2000/svg\" height=\"24px\"viewBox=\"0 0 24 24\"\n",
              "       width=\"24px\">\n",
              "    <path d=\"M0 0h24v24H0V0z\" fill=\"none\"/>\n",
              "    <path d=\"M18.56 5.44l.94 2.06.94-2.06 2.06-.94-2.06-.94-.94-2.06-.94 2.06-2.06.94zm-11 1L8.5 8.5l.94-2.06 2.06-.94-2.06-.94L8.5 2.5l-.94 2.06-2.06.94zm10 10l.94 2.06.94-2.06 2.06-.94-2.06-.94-.94-2.06-.94 2.06-2.06.94z\"/><path d=\"M17.41 7.96l-1.37-1.37c-.4-.4-.92-.59-1.43-.59-.52 0-1.04.2-1.43.59L10.3 9.45l-7.72 7.72c-.78.78-.78 2.05 0 2.83L4 21.41c.39.39.9.59 1.41.59.51 0 1.02-.2 1.41-.59l7.78-7.78 2.81-2.81c.8-.78.8-2.07 0-2.86zM5.41 20L4 18.59l7.72-7.72 1.47 1.35L5.41 20z\"/>\n",
              "  </svg>\n",
              "      </button>\n",
              "      \n",
              "  <style>\n",
              "    .colab-df-container {\n",
              "      display:flex;\n",
              "      flex-wrap:wrap;\n",
              "      gap: 12px;\n",
              "    }\n",
              "\n",
              "    .colab-df-convert {\n",
              "      background-color: #E8F0FE;\n",
              "      border: none;\n",
              "      border-radius: 50%;\n",
              "      cursor: pointer;\n",
              "      display: none;\n",
              "      fill: #1967D2;\n",
              "      height: 32px;\n",
              "      padding: 0 0 0 0;\n",
              "      width: 32px;\n",
              "    }\n",
              "\n",
              "    .colab-df-convert:hover {\n",
              "      background-color: #E2EBFA;\n",
              "      box-shadow: 0px 1px 2px rgba(60, 64, 67, 0.3), 0px 1px 3px 1px rgba(60, 64, 67, 0.15);\n",
              "      fill: #174EA6;\n",
              "    }\n",
              "\n",
              "    [theme=dark] .colab-df-convert {\n",
              "      background-color: #3B4455;\n",
              "      fill: #D2E3FC;\n",
              "    }\n",
              "\n",
              "    [theme=dark] .colab-df-convert:hover {\n",
              "      background-color: #434B5C;\n",
              "      box-shadow: 0px 1px 3px 1px rgba(0, 0, 0, 0.15);\n",
              "      filter: drop-shadow(0px 1px 2px rgba(0, 0, 0, 0.3));\n",
              "      fill: #FFFFFF;\n",
              "    }\n",
              "  </style>\n",
              "\n",
              "      <script>\n",
              "        const buttonEl =\n",
              "          document.querySelector('#df-7b7976ba-ddc5-48ba-a626-f8c2cf1bc4f5 button.colab-df-convert');\n",
              "        buttonEl.style.display =\n",
              "          google.colab.kernel.accessAllowed ? 'block' : 'none';\n",
              "\n",
              "        async function convertToInteractive(key) {\n",
              "          const element = document.querySelector('#df-7b7976ba-ddc5-48ba-a626-f8c2cf1bc4f5');\n",
              "          const dataTable =\n",
              "            await google.colab.kernel.invokeFunction('convertToInteractive',\n",
              "                                                     [key], {});\n",
              "          if (!dataTable) return;\n",
              "\n",
              "          const docLinkHtml = 'Like what you see? Visit the ' +\n",
              "            '<a target=\"_blank\" href=https://colab.research.google.com/notebooks/data_table.ipynb>data table notebook</a>'\n",
              "            + ' to learn more about interactive tables.';\n",
              "          element.innerHTML = '';\n",
              "          dataTable['output_type'] = 'display_data';\n",
              "          await google.colab.output.renderOutput(dataTable, element);\n",
              "          const docLink = document.createElement('div');\n",
              "          docLink.innerHTML = docLinkHtml;\n",
              "          element.appendChild(docLink);\n",
              "        }\n",
              "      </script>\n",
              "    </div>\n",
              "  </div>\n",
              "  "
            ]
          },
          "metadata": {},
          "execution_count": 16
        }
      ]
    },
    {
      "cell_type": "markdown",
      "source": [
        "Veri Kümemizde işlemlere devam ediyoruz. Simgeleştirme yaptıktan sonra gereksiz kelimeleri ayıklamak için bir fonksiyon yazıp veri iskeletinde 'olay dizisi' sütununda yer alan film özetlerimizi kelime kelime ayıklıyoruz."
      ],
      "metadata": {
        "id": "Zy19bCi6UaAx"
      }
    },
    {
      "cell_type": "code",
      "source": [
        "import nltk\n",
        "nltk.download('stopwords')\n",
        "def remove_stopwords(simgelestirilmisSutun):\n",
        "  from nltk.corpus import stopwords\n",
        "  stops = set(stopwords.words(\"turkish\"))\n",
        "  return [word for word in simgelestirilmisSutun if not word in stops]"
      ],
      "metadata": {
        "id": "fBpIz8vZ1egD",
        "colab": {
          "base_uri": "https://localhost:8080/"
        },
        "outputId": "8d9de619-6273-48b1-ce2c-130425c646cb"
      },
      "execution_count": 17,
      "outputs": [
        {
          "output_type": "stream",
          "name": "stderr",
          "text": [
            "[nltk_data] Downloading package stopwords to /root/nltk_data...\n",
            "[nltk_data]   Package stopwords is already up-to-date!\n"
          ]
        }
      ]
    },
    {
      "cell_type": "code",
      "source": [
        "df['sadelestirilmis'] = df.apply(lambda x: remove_stopwords(x['simgelestirilmis']), axis=1)\n",
        "df[['Orijinal İsmi', 'sadelestirilmis']].head()"
      ],
      "metadata": {
        "colab": {
          "base_uri": "https://localhost:8080/",
          "height": 206
        },
        "id": "jhDL_Xsw1wto",
        "outputId": "41ebc149-e940-4225-c1e1-78041ef7d34a"
      },
      "execution_count": 18,
      "outputs": [
        {
          "output_type": "execute_result",
          "data": {
            "text/plain": [
              "                      Orijinal İsmi  \\\n",
              "0            Kansas Saloon Smashers   \n",
              "1     Love by the Light of the Moon   \n",
              "2           The Martyred Presidents   \n",
              "3  Terrible Teddy, the Grizzly King   \n",
              "4            Jack and the Beanstalk   \n",
              "\n",
              "                                     sadelestirilmis  \n",
              "0  [çıkmadan, müşterilere, nation, carrie, salond...  \n",
              "1  [yukarı, gökyüzünü, kadının, geçen, şeyi, omzu...  \n",
              "2  [uzun, portalı, üç, garfield, sekiz, olan, yer...  \n",
              "3  [çekimin, kadar, çekime, eden, temsil, başkan,...  \n",
              "4  [yukarı, onu, kıl, kovalar, kadar, zorla, sapı...  "
            ],
            "text/html": [
              "\n",
              "  <div id=\"df-72aeffd4-980d-403c-9ba0-74231f02eb2f\">\n",
              "    <div class=\"colab-df-container\">\n",
              "      <div>\n",
              "<style scoped>\n",
              "    .dataframe tbody tr th:only-of-type {\n",
              "        vertical-align: middle;\n",
              "    }\n",
              "\n",
              "    .dataframe tbody tr th {\n",
              "        vertical-align: top;\n",
              "    }\n",
              "\n",
              "    .dataframe thead th {\n",
              "        text-align: right;\n",
              "    }\n",
              "</style>\n",
              "<table border=\"1\" class=\"dataframe\">\n",
              "  <thead>\n",
              "    <tr style=\"text-align: right;\">\n",
              "      <th></th>\n",
              "      <th>Orijinal İsmi</th>\n",
              "      <th>sadelestirilmis</th>\n",
              "    </tr>\n",
              "  </thead>\n",
              "  <tbody>\n",
              "    <tr>\n",
              "      <th>0</th>\n",
              "      <td>Kansas Saloon Smashers</td>\n",
              "      <td>[çıkmadan, müşterilere, nation, carrie, salond...</td>\n",
              "    </tr>\n",
              "    <tr>\n",
              "      <th>1</th>\n",
              "      <td>Love by the Light of the Moon</td>\n",
              "      <td>[yukarı, gökyüzünü, kadının, geçen, şeyi, omzu...</td>\n",
              "    </tr>\n",
              "    <tr>\n",
              "      <th>2</th>\n",
              "      <td>The Martyred Presidents</td>\n",
              "      <td>[uzun, portalı, üç, garfield, sekiz, olan, yer...</td>\n",
              "    </tr>\n",
              "    <tr>\n",
              "      <th>3</th>\n",
              "      <td>Terrible Teddy, the Grizzly King</td>\n",
              "      <td>[çekimin, kadar, çekime, eden, temsil, başkan,...</td>\n",
              "    </tr>\n",
              "    <tr>\n",
              "      <th>4</th>\n",
              "      <td>Jack and the Beanstalk</td>\n",
              "      <td>[yukarı, onu, kıl, kovalar, kadar, zorla, sapı...</td>\n",
              "    </tr>\n",
              "  </tbody>\n",
              "</table>\n",
              "</div>\n",
              "      <button class=\"colab-df-convert\" onclick=\"convertToInteractive('df-72aeffd4-980d-403c-9ba0-74231f02eb2f')\"\n",
              "              title=\"Convert this dataframe to an interactive table.\"\n",
              "              style=\"display:none;\">\n",
              "        \n",
              "  <svg xmlns=\"http://www.w3.org/2000/svg\" height=\"24px\"viewBox=\"0 0 24 24\"\n",
              "       width=\"24px\">\n",
              "    <path d=\"M0 0h24v24H0V0z\" fill=\"none\"/>\n",
              "    <path d=\"M18.56 5.44l.94 2.06.94-2.06 2.06-.94-2.06-.94-.94-2.06-.94 2.06-2.06.94zm-11 1L8.5 8.5l.94-2.06 2.06-.94-2.06-.94L8.5 2.5l-.94 2.06-2.06.94zm10 10l.94 2.06.94-2.06 2.06-.94-2.06-.94-.94-2.06-.94 2.06-2.06.94z\"/><path d=\"M17.41 7.96l-1.37-1.37c-.4-.4-.92-.59-1.43-.59-.52 0-1.04.2-1.43.59L10.3 9.45l-7.72 7.72c-.78.78-.78 2.05 0 2.83L4 21.41c.39.39.9.59 1.41.59.51 0 1.02-.2 1.41-.59l7.78-7.78 2.81-2.81c.8-.78.8-2.07 0-2.86zM5.41 20L4 18.59l7.72-7.72 1.47 1.35L5.41 20z\"/>\n",
              "  </svg>\n",
              "      </button>\n",
              "      \n",
              "  <style>\n",
              "    .colab-df-container {\n",
              "      display:flex;\n",
              "      flex-wrap:wrap;\n",
              "      gap: 12px;\n",
              "    }\n",
              "\n",
              "    .colab-df-convert {\n",
              "      background-color: #E8F0FE;\n",
              "      border: none;\n",
              "      border-radius: 50%;\n",
              "      cursor: pointer;\n",
              "      display: none;\n",
              "      fill: #1967D2;\n",
              "      height: 32px;\n",
              "      padding: 0 0 0 0;\n",
              "      width: 32px;\n",
              "    }\n",
              "\n",
              "    .colab-df-convert:hover {\n",
              "      background-color: #E2EBFA;\n",
              "      box-shadow: 0px 1px 2px rgba(60, 64, 67, 0.3), 0px 1px 3px 1px rgba(60, 64, 67, 0.15);\n",
              "      fill: #174EA6;\n",
              "    }\n",
              "\n",
              "    [theme=dark] .colab-df-convert {\n",
              "      background-color: #3B4455;\n",
              "      fill: #D2E3FC;\n",
              "    }\n",
              "\n",
              "    [theme=dark] .colab-df-convert:hover {\n",
              "      background-color: #434B5C;\n",
              "      box-shadow: 0px 1px 3px 1px rgba(0, 0, 0, 0.15);\n",
              "      filter: drop-shadow(0px 1px 2px rgba(0, 0, 0, 0.3));\n",
              "      fill: #FFFFFF;\n",
              "    }\n",
              "  </style>\n",
              "\n",
              "      <script>\n",
              "        const buttonEl =\n",
              "          document.querySelector('#df-72aeffd4-980d-403c-9ba0-74231f02eb2f button.colab-df-convert');\n",
              "        buttonEl.style.display =\n",
              "          google.colab.kernel.accessAllowed ? 'block' : 'none';\n",
              "\n",
              "        async function convertToInteractive(key) {\n",
              "          const element = document.querySelector('#df-72aeffd4-980d-403c-9ba0-74231f02eb2f');\n",
              "          const dataTable =\n",
              "            await google.colab.kernel.invokeFunction('convertToInteractive',\n",
              "                                                     [key], {});\n",
              "          if (!dataTable) return;\n",
              "\n",
              "          const docLinkHtml = 'Like what you see? Visit the ' +\n",
              "            '<a target=\"_blank\" href=https://colab.research.google.com/notebooks/data_table.ipynb>data table notebook</a>'\n",
              "            + ' to learn more about interactive tables.';\n",
              "          element.innerHTML = '';\n",
              "          dataTable['output_type'] = 'display_data';\n",
              "          await google.colab.output.renderOutput(dataTable, element);\n",
              "          const docLink = document.createElement('div');\n",
              "          docLink.innerHTML = docLinkHtml;\n",
              "          element.appendChild(docLink);\n",
              "        }\n",
              "      </script>\n",
              "    </div>\n",
              "  </div>\n",
              "  "
            ]
          },
          "metadata": {},
          "execution_count": 18
        }
      ]
    },
    {
      "cell_type": "markdown",
      "source": [
        "Veri ön / hazırlık işlemlerimize devam ediyoruz. Kelimelerin özünü / kökünü bulmak için için bir fonksiyon yazıp veri iskeletinde 'olay dizisi' sütununda yer alan film özetlerimizin simgeleştirilmiş ve ayıklanmış kelimelerinin özünü buluyoruz."
      ],
      "metadata": {
        "id": "2XpY3hjfUq05"
      }
    },
    {
      "cell_type": "code",
      "source": [
        "from zemberek import TurkishMorphology\n",
        "ozBulucu = TurkishMorphology.create_with_defaults()\n",
        "\n",
        "def ozunuBuldur(simgelestirilmisSutun):\n",
        "  # Zemberek ile deniyoruz\n",
        "  sonucListesi = []\n",
        "  for kelime in simgelestirilmisSutun:\n",
        "    kelime = str(ozBulucu.analyze(kelime)).lower()\n",
        "    kelime = kelime[kelime.find('analysisresults=[')+17:kelime.find(':')]\n",
        "    sonucListesi.append(kelime)\n",
        "  return sonucListesi"
      ],
      "metadata": {
        "colab": {
          "base_uri": "https://localhost:8080/"
        },
        "id": "aVcseraC8DOB",
        "outputId": "fd321826-2bf5-4750-a2f5-bd5869e61447"
      },
      "execution_count": 39,
      "outputs": [
        {
          "output_type": "stream",
          "name": "stderr",
          "text": [
            "INFO:zemberek.morphology.turkish_morphology:TurkishMorphology instance initialized in 12.305127143859863\n"
          ]
        },
        {
          "output_type": "stream",
          "name": "stdout",
          "text": [
            "2022-08-18 09:49:48,325 - zemberek.morphology.turkish_morphology - INFO\n",
            "Msg: TurkishMorphology instance initialized in 12.305127143859863\n",
            "\n"
          ]
        }
      ]
    },
    {
      "cell_type": "markdown",
      "source": [
        "Basit bir girdi ile fonksiyonumuzu test ediyoruz."
      ],
      "metadata": {
        "id": "Qt5F4w9SWQJQ"
      }
    },
    {
      "cell_type": "code",
      "source": [
        "# print(ozunuBuldur(gereksizKelimelerCikarilmisArananFilmOzeti))\n",
        "print(arananFilmOzeti)"
      ],
      "metadata": {
        "colab": {
          "base_uri": "https://localhost:8080/"
        },
        "id": "PS76AXXB66-8",
        "outputId": "3ab1fe97-4030-4caa-b53b-dfe2733015cf"
      },
      "execution_count": 20,
      "outputs": [
        {
          "output_type": "stream",
          "name": "stdout",
          "text": [
            "adamın biri gece salonda kitap okuyormuş ve hayal dünyasına dalmış\n"
          ]
        }
      ]
    },
    {
      "cell_type": "markdown",
      "source": [
        "Türkçe özünü bulma (stemmig) işlemi Google Colab Standart hesabı ile yaklaşık 6 dakika sürüyor. Google Colab Pro hesabı ile yüksek RAM (35.24 GB) ve TPU kullanarak süre 5 dakikaya düşüyor.\n",
        "\n",
        "**ÖNEMLİ BULGU:**\n",
        "\n",
        "NLTK Stemming Tool ile TurkishStemmer arasında 100000 civarında kelime oynuyor."
      ],
      "metadata": {
        "id": "wYbISgpRv4O1"
      }
    },
    {
      "cell_type": "markdown",
      "source": [
        "Yine daha büyük ama basit bir girdiyle daha fonksiyonumuzu test ediyoruz."
      ],
      "metadata": {
        "id": "gIrBi4o8WYki"
      }
    },
    {
      "cell_type": "code",
      "source": [
        "print(df['sadelestirilmis'][0])\n",
        "print(ozunuBuldur(df['sadelestirilmis'][0]))"
      ],
      "metadata": {
        "colab": {
          "base_uri": "https://localhost:8080/"
        },
        "id": "TkzZRyXVUKIT",
        "outputId": "94a1f9c5-91df-4601-af4d-751c130b614d"
      },
      "execution_count": 40,
      "outputs": [
        {
          "output_type": "stream",
          "name": "stdout",
          "text": [
            "['çıkmadan', 'müşterilere', 'nation', 'carrie', 'salonda', 'aynaları', 'takipçileri', 'kafasına', 'gitmesini', 'birayı', 'saldırdılar', 'herkesin', 'barmen', 'yüzüne', 'barı', 'içki', 'demirbaşları', 'kasayı', 'adama', 'püskürtür', 'grup', 'içeri', 'ardından', 'maden', 'sonra', 'adamın', 'ortaya', 'kovasını', 'mahvetmeye', 'önce', 'kırmaya', 'çektiler', 'yazar', 'şapkasını', 'suyu', 'çalışıyor', 'i̇rlandalı', 'basmakalıp', 'doldurduktan', 'gözlerine', 'bir', 'birayla', 'servisi', 'polis']\n",
            "['çıkmak', 'müşteri', 'nation', 'carrie', 'salon', 'ayna', 'takip', 'kafa', 'gitmek', 'bira', 'saldırmak', 'herkes', 'barmen', 'yüz', 'bar', 'içki', 'demirbaş', 'kasa', 'adamak', 'püskürmek', 'grup', 'içeri', 'ardından', 'maden', 'sonra', 'ada', 'orta', 'kova', 'mahvetmek', 'önce', 'kırmak', 'çekmek', 'yazar', 'şapka', 'su', 'çalışmak', \"ut='i̇rlandalı', normalizedinput='i̇rlandalı', analysisresults=\", 'basmakalıp', 'doldurmak', 'göz', 'bir', 'bira', 'servi', 'polis']\n"
          ]
        }
      ]
    },
    {
      "cell_type": "markdown",
      "source": [
        "Yeterince test yaptığımızı düşünerek ve fonksiyonumuzun istediğimiz gibi çalıştığından emin olarak veri kümemizdeki son ön / hazırlık işlemimize başlıyoruz. Veri iskeletinde 'olay dizisi' sütununda yer alan film özetlerimizin içindeki kelimelerin özünü buluyoruz. Başka bir değişle, limonatanın şekerini, suyunu ve nanesini alıp saf limon haline dönüştürüyoruz. \n",
        "\n",
        "**MOTTO:** Biz limonataya limonata demeyiz içindeki limon tadı belli olmayınca ;)"
      ],
      "metadata": {
        "id": "aH1d9AjfWe7X"
      }
    },
    {
      "cell_type": "code",
      "source": [
        "df['ozunuBulmus'] = df.apply(lambda x: ozunuBuldur(x['sadelestirilmis']), axis=1)\n",
        "df[['Orijinal İsmi', 'ozunuBulmus']].head()"
      ],
      "metadata": {
        "colab": {
          "base_uri": "https://localhost:8080/",
          "height": 380
        },
        "id": "vCsMsOhO2INh",
        "outputId": "191a9246-7d57-4bca-ddfa-726fe453ca73"
      },
      "execution_count": 41,
      "outputs": [
        {
          "output_type": "execute_result",
          "data": {
            "text/plain": [
              "                      Orijinal İsmi  \\\n",
              "0            Kansas Saloon Smashers   \n",
              "1     Love by the Light of the Moon   \n",
              "2           The Martyred Presidents   \n",
              "3  Terrible Teddy, the Grizzly King   \n",
              "4            Jack and the Beanstalk   \n",
              "\n",
              "                                         ozunuBulmus  \n",
              "0  [çıkmak, müşteri, nation, carrie, salon, ayna,...  \n",
              "1  [yukarı, gökyüzü, kadı, geçen, şe, omuz, gülüm...  \n",
              "2  [uzun, ut='portalı', normalizedinput='portalı'...  \n",
              "3  [çek, kadar, çek, etmek, temsil, başkan, ev, t...  \n",
              "4  [yukarı, o, kıl, kovmak, kadar, zorla, sap, in...  "
            ],
            "text/html": [
              "\n",
              "  <div id=\"df-2a5cb843-a88f-43a0-b9dd-a15b9c1f6414\">\n",
              "    <div class=\"colab-df-container\">\n",
              "      <div>\n",
              "<style scoped>\n",
              "    .dataframe tbody tr th:only-of-type {\n",
              "        vertical-align: middle;\n",
              "    }\n",
              "\n",
              "    .dataframe tbody tr th {\n",
              "        vertical-align: top;\n",
              "    }\n",
              "\n",
              "    .dataframe thead th {\n",
              "        text-align: right;\n",
              "    }\n",
              "</style>\n",
              "<table border=\"1\" class=\"dataframe\">\n",
              "  <thead>\n",
              "    <tr style=\"text-align: right;\">\n",
              "      <th></th>\n",
              "      <th>Orijinal İsmi</th>\n",
              "      <th>ozunuBulmus</th>\n",
              "    </tr>\n",
              "  </thead>\n",
              "  <tbody>\n",
              "    <tr>\n",
              "      <th>0</th>\n",
              "      <td>Kansas Saloon Smashers</td>\n",
              "      <td>[çıkmak, müşteri, nation, carrie, salon, ayna,...</td>\n",
              "    </tr>\n",
              "    <tr>\n",
              "      <th>1</th>\n",
              "      <td>Love by the Light of the Moon</td>\n",
              "      <td>[yukarı, gökyüzü, kadı, geçen, şe, omuz, gülüm...</td>\n",
              "    </tr>\n",
              "    <tr>\n",
              "      <th>2</th>\n",
              "      <td>The Martyred Presidents</td>\n",
              "      <td>[uzun, ut='portalı', normalizedinput='portalı'...</td>\n",
              "    </tr>\n",
              "    <tr>\n",
              "      <th>3</th>\n",
              "      <td>Terrible Teddy, the Grizzly King</td>\n",
              "      <td>[çek, kadar, çek, etmek, temsil, başkan, ev, t...</td>\n",
              "    </tr>\n",
              "    <tr>\n",
              "      <th>4</th>\n",
              "      <td>Jack and the Beanstalk</td>\n",
              "      <td>[yukarı, o, kıl, kovmak, kadar, zorla, sap, in...</td>\n",
              "    </tr>\n",
              "  </tbody>\n",
              "</table>\n",
              "</div>\n",
              "      <button class=\"colab-df-convert\" onclick=\"convertToInteractive('df-2a5cb843-a88f-43a0-b9dd-a15b9c1f6414')\"\n",
              "              title=\"Convert this dataframe to an interactive table.\"\n",
              "              style=\"display:none;\">\n",
              "        \n",
              "  <svg xmlns=\"http://www.w3.org/2000/svg\" height=\"24px\"viewBox=\"0 0 24 24\"\n",
              "       width=\"24px\">\n",
              "    <path d=\"M0 0h24v24H0V0z\" fill=\"none\"/>\n",
              "    <path d=\"M18.56 5.44l.94 2.06.94-2.06 2.06-.94-2.06-.94-.94-2.06-.94 2.06-2.06.94zm-11 1L8.5 8.5l.94-2.06 2.06-.94-2.06-.94L8.5 2.5l-.94 2.06-2.06.94zm10 10l.94 2.06.94-2.06 2.06-.94-2.06-.94-.94-2.06-.94 2.06-2.06.94z\"/><path d=\"M17.41 7.96l-1.37-1.37c-.4-.4-.92-.59-1.43-.59-.52 0-1.04.2-1.43.59L10.3 9.45l-7.72 7.72c-.78.78-.78 2.05 0 2.83L4 21.41c.39.39.9.59 1.41.59.51 0 1.02-.2 1.41-.59l7.78-7.78 2.81-2.81c.8-.78.8-2.07 0-2.86zM5.41 20L4 18.59l7.72-7.72 1.47 1.35L5.41 20z\"/>\n",
              "  </svg>\n",
              "      </button>\n",
              "      \n",
              "  <style>\n",
              "    .colab-df-container {\n",
              "      display:flex;\n",
              "      flex-wrap:wrap;\n",
              "      gap: 12px;\n",
              "    }\n",
              "\n",
              "    .colab-df-convert {\n",
              "      background-color: #E8F0FE;\n",
              "      border: none;\n",
              "      border-radius: 50%;\n",
              "      cursor: pointer;\n",
              "      display: none;\n",
              "      fill: #1967D2;\n",
              "      height: 32px;\n",
              "      padding: 0 0 0 0;\n",
              "      width: 32px;\n",
              "    }\n",
              "\n",
              "    .colab-df-convert:hover {\n",
              "      background-color: #E2EBFA;\n",
              "      box-shadow: 0px 1px 2px rgba(60, 64, 67, 0.3), 0px 1px 3px 1px rgba(60, 64, 67, 0.15);\n",
              "      fill: #174EA6;\n",
              "    }\n",
              "\n",
              "    [theme=dark] .colab-df-convert {\n",
              "      background-color: #3B4455;\n",
              "      fill: #D2E3FC;\n",
              "    }\n",
              "\n",
              "    [theme=dark] .colab-df-convert:hover {\n",
              "      background-color: #434B5C;\n",
              "      box-shadow: 0px 1px 3px 1px rgba(0, 0, 0, 0.15);\n",
              "      filter: drop-shadow(0px 1px 2px rgba(0, 0, 0, 0.3));\n",
              "      fill: #FFFFFF;\n",
              "    }\n",
              "  </style>\n",
              "\n",
              "      <script>\n",
              "        const buttonEl =\n",
              "          document.querySelector('#df-2a5cb843-a88f-43a0-b9dd-a15b9c1f6414 button.colab-df-convert');\n",
              "        buttonEl.style.display =\n",
              "          google.colab.kernel.accessAllowed ? 'block' : 'none';\n",
              "\n",
              "        async function convertToInteractive(key) {\n",
              "          const element = document.querySelector('#df-2a5cb843-a88f-43a0-b9dd-a15b9c1f6414');\n",
              "          const dataTable =\n",
              "            await google.colab.kernel.invokeFunction('convertToInteractive',\n",
              "                                                     [key], {});\n",
              "          if (!dataTable) return;\n",
              "\n",
              "          const docLinkHtml = 'Like what you see? Visit the ' +\n",
              "            '<a target=\"_blank\" href=https://colab.research.google.com/notebooks/data_table.ipynb>data table notebook</a>'\n",
              "            + ' to learn more about interactive tables.';\n",
              "          element.innerHTML = '';\n",
              "          dataTable['output_type'] = 'display_data';\n",
              "          await google.colab.output.renderOutput(dataTable, element);\n",
              "          const docLink = document.createElement('div');\n",
              "          docLink.innerHTML = docLinkHtml;\n",
              "          element.appendChild(docLink);\n",
              "        }\n",
              "      </script>\n",
              "    </div>\n",
              "  </div>\n",
              "  "
            ]
          },
          "metadata": {},
          "execution_count": 41
        }
      ]
    },
    {
      "cell_type": "markdown",
      "source": [
        "ZEMBEREK fonksiyonumuzda kural bazlıayıklama sistemimizin 3. satırdaki **portal** olarak bulması gereken yere **ut='portalı', normalizedinput='portalı', analysisresults=,** verisini yazdığını görünce kuralımızda istisna yakaladığımızı fark ediyor ama yarışma zamanımıza ve ZEMBEREK'in işlem süresinin 3 saat aldığına bakarak mevcut hali ile devam ediyoruz."
      ],
      "metadata": {
        "id": "H1r0uxt3XMe3"
      }
    },
    {
      "cell_type": "markdown",
      "source": [
        "AMA yapabileceğimiz akıllıca dokunuş ile istisnayı dışarıdan değiştirmemizin çaresini pas geçmiyoruz."
      ],
      "metadata": {
        "id": "4i1ccgAnXyoo"
      }
    },
    {
      "cell_type": "code",
      "source": [
        "def istisnalariDuzelt(istisnaliVeri):\n",
        "  sonucListesi = []\n",
        "  kelimeler = str(istisnaliVeri.lower())\n",
        "  kelimeler = kelimeler.split(',')\n",
        "  for kelime in kelimeler:\n",
        "    if 'ut=' in kelime:\n",
        "      sonucListesi.append(kelime[3:-1])\n",
        "    elif \"'\" in kelime:\n",
        "      sonucListesi.append(kelime[15:-1])\n",
        "    elif 'normalizedinput=' in kelime:\n",
        "      sonucListesi.append(kelime[17:-1])\n",
        "    elif 'nput=' in kelime:\n",
        "      sonucListesi.append(kelime[18:-1])\n",
        "    elif 'analysisresults=' in kelime:\n",
        "      pass\n",
        "    else:\n",
        "      sonucListesi.append(kelime)\n",
        "  sonucListesi = list(set(sonucListesi))\n",
        "  return sonucListesi"
      ],
      "metadata": {
        "id": "ZNvz810mX7SG"
      },
      "execution_count": 99,
      "outputs": []
    },
    {
      "cell_type": "markdown",
      "source": [
        "İstisnai durumları basit bir girdi ile test ediyoruz."
      ],
      "metadata": {
        "id": "cJB5cwrdYr3g"
      }
    },
    {
      "cell_type": "code",
      "source": [
        "print(istisnalariDuzelt(\"uzun,ut='portalı', normalizedinput='portalı', analysisresults=,üç,garfield,sekiz,olmak,yermek,saniye,sermek,iki,suikast,james,ayak,dip,william,çek,lincoln,oturmak,portre,biraz,başkan,mezar,suikast,sürmek,ut='i̇lkinde', normalizedinput='i̇lkinde', analysisresults=,kız,orta,ikinci,sunak,adalet,kurban,abd,atmak,görüntülemek,dakika,kamera,bir,yüz,film\"))"
      ],
      "metadata": {
        "colab": {
          "base_uri": "https://localhost:8080/"
        },
        "id": "2xZdMxA3YxnX",
        "outputId": "097846e3-2833-4eba-8488-d86cdf1042cf"
      },
      "execution_count": 100,
      "outputs": [
        {
          "output_type": "stream",
          "name": "stdout",
          "text": [
            "['sermek', 'mezar', 'uzun', \"rmalizedinput='i̇lkinde\", \"rmalizedinput='portalı\", 'sunak', \"'portalı\", 'üç', 'yermek', 'garfield', 'sekiz', 'dip', 'iki', 'olmak', 'ayak', 'başkan', 'suikast', 'atmak', 'james', 'dakika', 'çek', 'william', 'orta', 'saniye', 'görüntülemek', 'yüz', 'biraz', 'sürmek', \"'i̇lkinde\", 'kız', 'ikinci', 'oturmak', 'adalet', 'kurban', 'abd', 'portre', 'bir', 'lincoln', 'film', 'kamera']\n"
          ]
        }
      ]
    },
    {
      "cell_type": "markdown",
      "source": [
        "Hala kabuledilebilir düzeyde hata / istisna olduğunu görüyoruz ama artık ilerliyoruz ve 'ozunuBulmus' alanındaki istisnaları kabuledilebilir hata bırakacak şekilde düzeltiyoruz."
      ],
      "metadata": {
        "id": "uaXrg3qscrBB"
      }
    },
    {
      "cell_type": "code",
      "source": [
        "# Jupiter Notebook çalışma sırasından dolayı 'Ozet' alanını yazdık ama yukarıdan aşağı çalıştırılırken 'ozunuBulmus'\n",
        "df['Ozet2'] = df.apply(lambda x: istisnalariDuzelt(x['Ozet']), axis=1)\n",
        "df[['Orijinal İsmi', 'Ozet2']].head()"
      ],
      "metadata": {
        "colab": {
          "base_uri": "https://localhost:8080/",
          "height": 297
        },
        "id": "Mw25E3QIc9px",
        "outputId": "4d2a51d8-12cf-45e4-a048-7da8e66ae708"
      },
      "execution_count": 101,
      "outputs": [
        {
          "output_type": "execute_result",
          "data": {
            "text/plain": [
              "                      Orijinal İsmi  \\\n",
              "0            Kansas Saloon Smashers   \n",
              "1     Love by the Light of the Moon   \n",
              "2           The Martyred Presidents   \n",
              "3  Terrible Teddy, the Grizzly King   \n",
              "4            Jack and the Beanstalk   \n",
              "\n",
              "                                               Ozet2  \n",
              "0  [rmalizedinput='i̇rlandalı, mek herkes nation ...  \n",
              "1  [yukarı korku engellemek geçen kadı terk görüş...  \n",
              "2  [rmalizedinput='i̇lkinde, rmalizedinput='porta...  \n",
              "3  [rmalizedinput='i̇kinci, i yardımcı tepe kadar...  \n",
              "4  [yukarı dönmek kıl sırık tepe bırakmak kadar z...  "
            ],
            "text/html": [
              "\n",
              "  <div id=\"df-8701e4f6-6d29-4a4e-9944-1d7fe0a11d86\">\n",
              "    <div class=\"colab-df-container\">\n",
              "      <div>\n",
              "<style scoped>\n",
              "    .dataframe tbody tr th:only-of-type {\n",
              "        vertical-align: middle;\n",
              "    }\n",
              "\n",
              "    .dataframe tbody tr th {\n",
              "        vertical-align: top;\n",
              "    }\n",
              "\n",
              "    .dataframe thead th {\n",
              "        text-align: right;\n",
              "    }\n",
              "</style>\n",
              "<table border=\"1\" class=\"dataframe\">\n",
              "  <thead>\n",
              "    <tr style=\"text-align: right;\">\n",
              "      <th></th>\n",
              "      <th>Orijinal İsmi</th>\n",
              "      <th>Ozet2</th>\n",
              "    </tr>\n",
              "  </thead>\n",
              "  <tbody>\n",
              "    <tr>\n",
              "      <th>0</th>\n",
              "      <td>Kansas Saloon Smashers</td>\n",
              "      <td>[rmalizedinput='i̇rlandalı, mek herkes nation ...</td>\n",
              "    </tr>\n",
              "    <tr>\n",
              "      <th>1</th>\n",
              "      <td>Love by the Light of the Moon</td>\n",
              "      <td>[yukarı korku engellemek geçen kadı terk görüş...</td>\n",
              "    </tr>\n",
              "    <tr>\n",
              "      <th>2</th>\n",
              "      <td>The Martyred Presidents</td>\n",
              "      <td>[rmalizedinput='i̇lkinde, rmalizedinput='porta...</td>\n",
              "    </tr>\n",
              "    <tr>\n",
              "      <th>3</th>\n",
              "      <td>Terrible Teddy, the Grizzly King</td>\n",
              "      <td>[rmalizedinput='i̇kinci, i yardımcı tepe kadar...</td>\n",
              "    </tr>\n",
              "    <tr>\n",
              "      <th>4</th>\n",
              "      <td>Jack and the Beanstalk</td>\n",
              "      <td>[yukarı dönmek kıl sırık tepe bırakmak kadar z...</td>\n",
              "    </tr>\n",
              "  </tbody>\n",
              "</table>\n",
              "</div>\n",
              "      <button class=\"colab-df-convert\" onclick=\"convertToInteractive('df-8701e4f6-6d29-4a4e-9944-1d7fe0a11d86')\"\n",
              "              title=\"Convert this dataframe to an interactive table.\"\n",
              "              style=\"display:none;\">\n",
              "        \n",
              "  <svg xmlns=\"http://www.w3.org/2000/svg\" height=\"24px\"viewBox=\"0 0 24 24\"\n",
              "       width=\"24px\">\n",
              "    <path d=\"M0 0h24v24H0V0z\" fill=\"none\"/>\n",
              "    <path d=\"M18.56 5.44l.94 2.06.94-2.06 2.06-.94-2.06-.94-.94-2.06-.94 2.06-2.06.94zm-11 1L8.5 8.5l.94-2.06 2.06-.94-2.06-.94L8.5 2.5l-.94 2.06-2.06.94zm10 10l.94 2.06.94-2.06 2.06-.94-2.06-.94-.94-2.06-.94 2.06-2.06.94z\"/><path d=\"M17.41 7.96l-1.37-1.37c-.4-.4-.92-.59-1.43-.59-.52 0-1.04.2-1.43.59L10.3 9.45l-7.72 7.72c-.78.78-.78 2.05 0 2.83L4 21.41c.39.39.9.59 1.41.59.51 0 1.02-.2 1.41-.59l7.78-7.78 2.81-2.81c.8-.78.8-2.07 0-2.86zM5.41 20L4 18.59l7.72-7.72 1.47 1.35L5.41 20z\"/>\n",
              "  </svg>\n",
              "      </button>\n",
              "      \n",
              "  <style>\n",
              "    .colab-df-container {\n",
              "      display:flex;\n",
              "      flex-wrap:wrap;\n",
              "      gap: 12px;\n",
              "    }\n",
              "\n",
              "    .colab-df-convert {\n",
              "      background-color: #E8F0FE;\n",
              "      border: none;\n",
              "      border-radius: 50%;\n",
              "      cursor: pointer;\n",
              "      display: none;\n",
              "      fill: #1967D2;\n",
              "      height: 32px;\n",
              "      padding: 0 0 0 0;\n",
              "      width: 32px;\n",
              "    }\n",
              "\n",
              "    .colab-df-convert:hover {\n",
              "      background-color: #E2EBFA;\n",
              "      box-shadow: 0px 1px 2px rgba(60, 64, 67, 0.3), 0px 1px 3px 1px rgba(60, 64, 67, 0.15);\n",
              "      fill: #174EA6;\n",
              "    }\n",
              "\n",
              "    [theme=dark] .colab-df-convert {\n",
              "      background-color: #3B4455;\n",
              "      fill: #D2E3FC;\n",
              "    }\n",
              "\n",
              "    [theme=dark] .colab-df-convert:hover {\n",
              "      background-color: #434B5C;\n",
              "      box-shadow: 0px 1px 3px 1px rgba(0, 0, 0, 0.15);\n",
              "      filter: drop-shadow(0px 1px 2px rgba(0, 0, 0, 0.3));\n",
              "      fill: #FFFFFF;\n",
              "    }\n",
              "  </style>\n",
              "\n",
              "      <script>\n",
              "        const buttonEl =\n",
              "          document.querySelector('#df-8701e4f6-6d29-4a4e-9944-1d7fe0a11d86 button.colab-df-convert');\n",
              "        buttonEl.style.display =\n",
              "          google.colab.kernel.accessAllowed ? 'block' : 'none';\n",
              "\n",
              "        async function convertToInteractive(key) {\n",
              "          const element = document.querySelector('#df-8701e4f6-6d29-4a4e-9944-1d7fe0a11d86');\n",
              "          const dataTable =\n",
              "            await google.colab.kernel.invokeFunction('convertToInteractive',\n",
              "                                                     [key], {});\n",
              "          if (!dataTable) return;\n",
              "\n",
              "          const docLinkHtml = 'Like what you see? Visit the ' +\n",
              "            '<a target=\"_blank\" href=https://colab.research.google.com/notebooks/data_table.ipynb>data table notebook</a>'\n",
              "            + ' to learn more about interactive tables.';\n",
              "          element.innerHTML = '';\n",
              "          dataTable['output_type'] = 'display_data';\n",
              "          await google.colab.output.renderOutput(dataTable, element);\n",
              "          const docLink = document.createElement('div');\n",
              "          docLink.innerHTML = docLinkHtml;\n",
              "          element.appendChild(docLink);\n",
              "        }\n",
              "      </script>\n",
              "    </div>\n",
              "  </div>\n",
              "  "
            ]
          },
          "metadata": {},
          "execution_count": 101
        }
      ]
    },
    {
      "cell_type": "code",
      "source": [
        "df.to_csv('ozet2.csv',columns=['Ozet2'])\n",
        "df[['Orijinal İsmi', 'Ozet2']].head()"
      ],
      "metadata": {
        "id": "Gv7zKFH1gqiT"
      },
      "execution_count": null,
      "outputs": []
    },
    {
      "cell_type": "code",
      "source": [
        "df2 = pd.read_csv('ozet2.csv')\n",
        "df2.head()\n",
        "df = df.drop(columns=['Ozet'])\n",
        "df['Ozet'] = df2['Ozet2']"
      ],
      "metadata": {
        "id": "md4DTJtafl7p"
      },
      "execution_count": 111,
      "outputs": []
    },
    {
      "cell_type": "code",
      "source": [
        "def kelimeleriBirlestir(simgelestirilmisSutun):\n",
        "  simgelestirilmisSutun = list(set(simgelestirilmisSutun))\n",
        "  return (' '.join(simgelestirilmisSutun))"
      ],
      "metadata": {
        "id": "yUtxKG4k2lwi"
      },
      "execution_count": 103,
      "outputs": []
    },
    {
      "cell_type": "code",
      "source": [
        "df['Ozet'] = df.apply(lambda x: kelimeleriBirlestir(x['ozunuBulmus']), axis=1)\n",
        "df[['Orijinal İsmi', 'Ozet']].head()"
      ],
      "metadata": {
        "id": "U9yIZMhS2vH4"
      },
      "execution_count": null,
      "outputs": []
    },
    {
      "cell_type": "code",
      "source": [
        "df.info(verbose=True)"
      ],
      "metadata": {
        "colab": {
          "base_uri": "https://localhost:8080/"
        },
        "id": "QdG4fbnpAWy3",
        "outputId": "a4d48d9b-011f-4478-9053-0b6a69b0e415"
      },
      "execution_count": 112,
      "outputs": [
        {
          "output_type": "stream",
          "name": "stdout",
          "text": [
            "<class 'pandas.core.frame.DataFrame'>\n",
            "RangeIndex: 34886 entries, 0 to 34885\n",
            "Data columns (total 8 columns):\n",
            " #   Column          Non-Null Count  Dtype \n",
            "---  ------          --------------  ----- \n",
            " 0   Çıkış Yılı      34886 non-null  int64 \n",
            " 1   Orijinal İsmi   34886 non-null  object\n",
            " 2   Yapıldığı Ülke  34886 non-null  object\n",
            " 3   Yönetmeni       34886 non-null  object\n",
            " 4   Oyuncu Kadrosu  33464 non-null  object\n",
            " 5   Türü            34858 non-null  object\n",
            " 6   Veri Kaynağı    34886 non-null  object\n",
            " 7   Ozet            34886 non-null  object\n",
            "dtypes: int64(1), object(7)\n",
            "memory usage: 2.1+ MB\n"
          ]
        }
      ]
    },
    {
      "cell_type": "code",
      "source": [
        "df = df.drop(columns=['simgelestirilmis','sadelestirilmis','ozunuBulmus','Olay Dizisi'])\n",
        "df.info(verbose=True)"
      ],
      "metadata": {
        "colab": {
          "base_uri": "https://localhost:8080/"
        },
        "id": "CmjQtzgU32wI",
        "outputId": "6966cabd-6d97-4f42-f168-779ce3c38b43"
      },
      "execution_count": 46,
      "outputs": [
        {
          "output_type": "stream",
          "name": "stdout",
          "text": [
            "<class 'pandas.core.frame.DataFrame'>\n",
            "RangeIndex: 34886 entries, 0 to 34885\n",
            "Data columns (total 8 columns):\n",
            " #   Column          Non-Null Count  Dtype \n",
            "---  ------          --------------  ----- \n",
            " 0   Çıkış Yılı      34886 non-null  int64 \n",
            " 1   Orijinal İsmi   34886 non-null  object\n",
            " 2   Yapıldığı Ülke  34886 non-null  object\n",
            " 3   Yönetmeni       34886 non-null  object\n",
            " 4   Oyuncu Kadrosu  33464 non-null  object\n",
            " 5   Türü            34858 non-null  object\n",
            " 6   Veri Kaynağı    34886 non-null  object\n",
            " 7   Ozet            34886 non-null  object\n",
            "dtypes: int64(1), object(7)\n",
            "memory usage: 2.1+ MB\n"
          ]
        }
      ]
    },
    {
      "cell_type": "markdown",
      "source": [
        "Arama yapmadan önce gerekli TF / IDF matrisini (dizey) oluşturalım.\n",
        "\n",
        "**Kaynaklar:**\n",
        "\n",
        "* https://monkeylearn.com/blog/what-is-tf-idf/\n",
        "* https://medium.com/@cmukesh8688/tf-idf-vectorizer-scikit-learn-dbc0244a911a\n"
      ],
      "metadata": {
        "id": "cfbjZqz7GsqJ"
      }
    },
    {
      "cell_type": "code",
      "source": [
        "from sklearn.feature_extraction.text import TfidfVectorizer\n",
        "import nltk\n",
        "nltk.download(\"stopwords\")\n",
        "nltk.download('punkt')\n",
        "from nltk.corpus import stopwords\n",
        "aranilacak_tfidfNesnesi = TfidfVectorizer(stop_words=stopwords.words(\"turkish\"))\n",
        "aranilacak_tfidfDizeyi = aranilacak_tfidfNesnesi.fit_transform(df['Ozet'])\n",
        "aranilacak_tfidfDizeyi.shape"
      ],
      "metadata": {
        "id": "8HU10SO5JYwg",
        "colab": {
          "base_uri": "https://localhost:8080/"
        },
        "outputId": "5e7ccf3b-67f9-4e66-b021-bb4eeb26a005"
      },
      "execution_count": 113,
      "outputs": [
        {
          "output_type": "stream",
          "name": "stderr",
          "text": [
            "[nltk_data] Downloading package stopwords to /root/nltk_data...\n",
            "[nltk_data]   Package stopwords is already up-to-date!\n",
            "[nltk_data] Downloading package punkt to /root/nltk_data...\n",
            "[nltk_data]   Package punkt is already up-to-date!\n"
          ]
        },
        {
          "output_type": "execute_result",
          "data": {
            "text/plain": [
              "(34886, 87945)"
            ]
          },
          "metadata": {},
          "execution_count": 113
        }
      ]
    },
    {
      "cell_type": "markdown",
      "source": [
        "ozBulucu TurkishStemmer olunca aranilacak_tfidfDizeyi.shape (34886, 113148)\n",
        "\n",
        "ozBulucu nltk.stem olunca aranilacak_tfidfDizeyi.shape (34886, 215685)\n",
        "\n",
        "ozBulucu ve veri ön işlemleri olmadan aranilacak_tfidfDizeyi.shape (34886, 225577)\n",
        "\n",
        "ozBulucu Zemberek olunca aranilacak_tfidfDizeyi.shape (34886, 88404)\n"
      ],
      "metadata": {
        "id": "WS2buHqJrVmd"
      }
    },
    {
      "cell_type": "code",
      "source": [
        "aranilacak_tfidfNesnesi.get_feature_names()[5000:5010]"
      ],
      "metadata": {
        "colab": {
          "base_uri": "https://localhost:8080/"
        },
        "id": "IW8YQdnVj4fD",
        "outputId": "77627647-726c-4365-f493-17106d411568"
      },
      "execution_count": 114,
      "outputs": [
        {
          "output_type": "stream",
          "name": "stderr",
          "text": [
            "/usr/local/lib/python3.7/dist-packages/sklearn/utils/deprecation.py:87: FutureWarning: Function get_feature_names is deprecated; get_feature_names is deprecated in 1.0 and will be removed in 1.2. Please use get_feature_names_out instead.\n",
            "  warnings.warn(msg, category=FutureWarning)\n"
          ]
        },
        {
          "output_type": "execute_result",
          "data": {
            "text/plain": [
              "['axelson',\n",
              " 'axelstein',\n",
              " 'axew',\n",
              " 'axford',\n",
              " 'axis',\n",
              " 'axl',\n",
              " 'axlerod',\n",
              " 'axmann',\n",
              " 'axton',\n",
              " 'axwell']"
            ]
          },
          "metadata": {},
          "execution_count": 114
        }
      ]
    },
    {
      "cell_type": "code",
      "source": [
        "from sklearn.metrics.pairwise import linear_kernel\n",
        "cosine_sim = linear_kernel(aranilacak_tfidfDizeyi, aranilacak_tfidfDizeyi)\n",
        "cosine_sim.shape"
      ],
      "metadata": {
        "id": "Blf3oHCMkGVT",
        "colab": {
          "base_uri": "https://localhost:8080/"
        },
        "outputId": "cf399de3-ece2-4411-a2a4-2c9586d19983"
      },
      "execution_count": 49,
      "outputs": [
        {
          "output_type": "execute_result",
          "data": {
            "text/plain": [
              "(34886, 34886)"
            ]
          },
          "metadata": {},
          "execution_count": 49
        }
      ]
    },
    {
      "cell_type": "markdown",
      "source": [
        "Yukarıdaki hesabı yapması için yaklaşık 25 GB'lık RAM yeterli oldu."
      ],
      "metadata": {
        "id": "nyP0B5OP0xQ8"
      }
    },
    {
      "cell_type": "code",
      "source": [
        "indices = pd.Series(df.index, index=df['Orijinal İsmi']).drop_duplicates()\n",
        "print(indices[:10])"
      ],
      "metadata": {
        "colab": {
          "base_uri": "https://localhost:8080/"
        },
        "id": "_FhIfU5dkPXZ",
        "outputId": "d75fe246-fdbf-4095-ca51-592ba45daadf"
      },
      "execution_count": 115,
      "outputs": [
        {
          "output_type": "stream",
          "name": "stdout",
          "text": [
            "Orijinal İsmi\n",
            "Kansas Saloon Smashers              0\n",
            "Love by the Light of the Moon       1\n",
            "The Martyred Presidents             2\n",
            "Terrible Teddy, the Grizzly King    3\n",
            "Jack and the Beanstalk              4\n",
            "Alice in Wonderland                 5\n",
            "The Great Train Robbery             6\n",
            "The Suburbanite                     7\n",
            "The Little Train Robbery            8\n",
            "The Night Before Christmas          9\n",
            "dtype: int64\n"
          ]
        }
      ]
    },
    {
      "cell_type": "code",
      "source": [
        "def tavsiyeVer(filmBasligi, cosine_sim=cosine_sim):\n",
        "    idx = indices[filmBasligi]\n",
        "    sim_scores = list(enumerate(cosine_sim[idx]))\n",
        "    sim_scores = sorted(sim_scores, key=lambda x: x[1], reverse=True)\n",
        "    sim_scores = sim_scores[1:11]\n",
        "    movie_indices = [i[0] for i in sim_scores]\n",
        "    return df['Orijinal İsmi'].iloc[movie_indices]"
      ],
      "metadata": {
        "id": "Pxj6Oar6k_s7"
      },
      "execution_count": 116,
      "outputs": []
    },
    {
      "cell_type": "code",
      "source": [
        "print(tavsiyeVer(gereksizKelimelerCikarilmisArananFilmOzeti))"
      ],
      "metadata": {
        "colab": {
          "base_uri": "https://localhost:8080/",
          "height": 311
        },
        "id": "KB2FEfhO1i9M",
        "outputId": "6d69906a-eabc-433c-c628-cc54f5347216"
      },
      "execution_count": 117,
      "outputs": [
        {
          "output_type": "error",
          "ename": "KeyError",
          "evalue": "ignored",
          "traceback": [
            "\u001b[0;31m---------------------------------------------------------------------------\u001b[0m",
            "\u001b[0;31mKeyError\u001b[0m                                  Traceback (most recent call last)",
            "\u001b[0;32m<ipython-input-117-15e5448e4d45>\u001b[0m in \u001b[0;36m<module>\u001b[0;34m\u001b[0m\n\u001b[0;32m----> 1\u001b[0;31m \u001b[0mprint\u001b[0m\u001b[0;34m(\u001b[0m\u001b[0mtavsiyeVer\u001b[0m\u001b[0;34m(\u001b[0m\u001b[0mgereksizKelimelerCikarilmisArananFilmOzeti\u001b[0m\u001b[0;34m)\u001b[0m\u001b[0;34m)\u001b[0m\u001b[0;34m\u001b[0m\u001b[0;34m\u001b[0m\u001b[0m\n\u001b[0m",
            "\u001b[0;32m<ipython-input-116-ce8ab2d9a125>\u001b[0m in \u001b[0;36mtavsiyeVer\u001b[0;34m(filmBasligi, cosine_sim)\u001b[0m\n\u001b[1;32m      1\u001b[0m \u001b[0;32mdef\u001b[0m \u001b[0mtavsiyeVer\u001b[0m\u001b[0;34m(\u001b[0m\u001b[0mfilmBasligi\u001b[0m\u001b[0;34m,\u001b[0m \u001b[0mcosine_sim\u001b[0m\u001b[0;34m=\u001b[0m\u001b[0mcosine_sim\u001b[0m\u001b[0;34m)\u001b[0m\u001b[0;34m:\u001b[0m\u001b[0;34m\u001b[0m\u001b[0;34m\u001b[0m\u001b[0m\n\u001b[0;32m----> 2\u001b[0;31m     \u001b[0midx\u001b[0m \u001b[0;34m=\u001b[0m \u001b[0mindices\u001b[0m\u001b[0;34m[\u001b[0m\u001b[0mfilmBasligi\u001b[0m\u001b[0;34m]\u001b[0m\u001b[0;34m\u001b[0m\u001b[0;34m\u001b[0m\u001b[0m\n\u001b[0m\u001b[1;32m      3\u001b[0m     \u001b[0msim_scores\u001b[0m \u001b[0;34m=\u001b[0m \u001b[0mlist\u001b[0m\u001b[0;34m(\u001b[0m\u001b[0menumerate\u001b[0m\u001b[0;34m(\u001b[0m\u001b[0mcosine_sim\u001b[0m\u001b[0;34m[\u001b[0m\u001b[0midx\u001b[0m\u001b[0;34m]\u001b[0m\u001b[0;34m)\u001b[0m\u001b[0;34m)\u001b[0m\u001b[0;34m\u001b[0m\u001b[0;34m\u001b[0m\u001b[0m\n\u001b[1;32m      4\u001b[0m     \u001b[0msim_scores\u001b[0m \u001b[0;34m=\u001b[0m \u001b[0msorted\u001b[0m\u001b[0;34m(\u001b[0m\u001b[0msim_scores\u001b[0m\u001b[0;34m,\u001b[0m \u001b[0mkey\u001b[0m\u001b[0;34m=\u001b[0m\u001b[0;32mlambda\u001b[0m \u001b[0mx\u001b[0m\u001b[0;34m:\u001b[0m \u001b[0mx\u001b[0m\u001b[0;34m[\u001b[0m\u001b[0;36m1\u001b[0m\u001b[0;34m]\u001b[0m\u001b[0;34m,\u001b[0m \u001b[0mreverse\u001b[0m\u001b[0;34m=\u001b[0m\u001b[0;32mTrue\u001b[0m\u001b[0;34m)\u001b[0m\u001b[0;34m\u001b[0m\u001b[0;34m\u001b[0m\u001b[0m\n\u001b[1;32m      5\u001b[0m     \u001b[0msim_scores\u001b[0m \u001b[0;34m=\u001b[0m \u001b[0msim_scores\u001b[0m\u001b[0;34m[\u001b[0m\u001b[0;36m1\u001b[0m\u001b[0;34m:\u001b[0m\u001b[0;36m11\u001b[0m\u001b[0;34m]\u001b[0m\u001b[0;34m\u001b[0m\u001b[0;34m\u001b[0m\u001b[0m\n",
            "\u001b[0;32m/usr/local/lib/python3.7/dist-packages/pandas/core/series.py\u001b[0m in \u001b[0;36m__getitem__\u001b[0;34m(self, key)\u001b[0m\n\u001b[1;32m    964\u001b[0m             \u001b[0;32mreturn\u001b[0m \u001b[0mself\u001b[0m\u001b[0;34m.\u001b[0m\u001b[0m_get_values\u001b[0m\u001b[0;34m(\u001b[0m\u001b[0mkey\u001b[0m\u001b[0;34m)\u001b[0m\u001b[0;34m\u001b[0m\u001b[0;34m\u001b[0m\u001b[0m\n\u001b[1;32m    965\u001b[0m \u001b[0;34m\u001b[0m\u001b[0m\n\u001b[0;32m--> 966\u001b[0;31m         \u001b[0;32mreturn\u001b[0m \u001b[0mself\u001b[0m\u001b[0;34m.\u001b[0m\u001b[0m_get_with\u001b[0m\u001b[0;34m(\u001b[0m\u001b[0mkey\u001b[0m\u001b[0;34m)\u001b[0m\u001b[0;34m\u001b[0m\u001b[0;34m\u001b[0m\u001b[0m\n\u001b[0m\u001b[1;32m    967\u001b[0m \u001b[0;34m\u001b[0m\u001b[0m\n\u001b[1;32m    968\u001b[0m     \u001b[0;32mdef\u001b[0m \u001b[0m_get_with\u001b[0m\u001b[0;34m(\u001b[0m\u001b[0mself\u001b[0m\u001b[0;34m,\u001b[0m \u001b[0mkey\u001b[0m\u001b[0;34m)\u001b[0m\u001b[0;34m:\u001b[0m\u001b[0;34m\u001b[0m\u001b[0;34m\u001b[0m\u001b[0m\n",
            "\u001b[0;32m/usr/local/lib/python3.7/dist-packages/pandas/core/series.py\u001b[0m in \u001b[0;36m_get_with\u001b[0;34m(self, key)\u001b[0m\n\u001b[1;32m   1004\u001b[0m \u001b[0;34m\u001b[0m\u001b[0m\n\u001b[1;32m   1005\u001b[0m         \u001b[0;31m# handle the dup indexing case GH#4246\u001b[0m\u001b[0;34m\u001b[0m\u001b[0;34m\u001b[0m\u001b[0;34m\u001b[0m\u001b[0m\n\u001b[0;32m-> 1006\u001b[0;31m         \u001b[0;32mreturn\u001b[0m \u001b[0mself\u001b[0m\u001b[0;34m.\u001b[0m\u001b[0mloc\u001b[0m\u001b[0;34m[\u001b[0m\u001b[0mkey\u001b[0m\u001b[0;34m]\u001b[0m\u001b[0;34m\u001b[0m\u001b[0;34m\u001b[0m\u001b[0m\n\u001b[0m\u001b[1;32m   1007\u001b[0m \u001b[0;34m\u001b[0m\u001b[0m\n\u001b[1;32m   1008\u001b[0m     \u001b[0;32mdef\u001b[0m \u001b[0m_get_values_tuple\u001b[0m\u001b[0;34m(\u001b[0m\u001b[0mself\u001b[0m\u001b[0;34m,\u001b[0m \u001b[0mkey\u001b[0m\u001b[0;34m)\u001b[0m\u001b[0;34m:\u001b[0m\u001b[0;34m\u001b[0m\u001b[0;34m\u001b[0m\u001b[0m\n",
            "\u001b[0;32m/usr/local/lib/python3.7/dist-packages/pandas/core/indexing.py\u001b[0m in \u001b[0;36m__getitem__\u001b[0;34m(self, key)\u001b[0m\n\u001b[1;32m    929\u001b[0m \u001b[0;34m\u001b[0m\u001b[0m\n\u001b[1;32m    930\u001b[0m             \u001b[0mmaybe_callable\u001b[0m \u001b[0;34m=\u001b[0m \u001b[0mcom\u001b[0m\u001b[0;34m.\u001b[0m\u001b[0mapply_if_callable\u001b[0m\u001b[0;34m(\u001b[0m\u001b[0mkey\u001b[0m\u001b[0;34m,\u001b[0m \u001b[0mself\u001b[0m\u001b[0;34m.\u001b[0m\u001b[0mobj\u001b[0m\u001b[0;34m)\u001b[0m\u001b[0;34m\u001b[0m\u001b[0;34m\u001b[0m\u001b[0m\n\u001b[0;32m--> 931\u001b[0;31m             \u001b[0;32mreturn\u001b[0m \u001b[0mself\u001b[0m\u001b[0;34m.\u001b[0m\u001b[0m_getitem_axis\u001b[0m\u001b[0;34m(\u001b[0m\u001b[0mmaybe_callable\u001b[0m\u001b[0;34m,\u001b[0m \u001b[0maxis\u001b[0m\u001b[0;34m=\u001b[0m\u001b[0maxis\u001b[0m\u001b[0;34m)\u001b[0m\u001b[0;34m\u001b[0m\u001b[0;34m\u001b[0m\u001b[0m\n\u001b[0m\u001b[1;32m    932\u001b[0m \u001b[0;34m\u001b[0m\u001b[0m\n\u001b[1;32m    933\u001b[0m     \u001b[0;32mdef\u001b[0m \u001b[0m_is_scalar_access\u001b[0m\u001b[0;34m(\u001b[0m\u001b[0mself\u001b[0m\u001b[0;34m,\u001b[0m \u001b[0mkey\u001b[0m\u001b[0;34m:\u001b[0m \u001b[0mtuple\u001b[0m\u001b[0;34m)\u001b[0m\u001b[0;34m:\u001b[0m\u001b[0;34m\u001b[0m\u001b[0;34m\u001b[0m\u001b[0m\n",
            "\u001b[0;32m/usr/local/lib/python3.7/dist-packages/pandas/core/indexing.py\u001b[0m in \u001b[0;36m_getitem_axis\u001b[0;34m(self, key, axis)\u001b[0m\n\u001b[1;32m   1151\u001b[0m                     \u001b[0;32mraise\u001b[0m \u001b[0mValueError\u001b[0m\u001b[0;34m(\u001b[0m\u001b[0;34m\"Cannot index with multidimensional key\"\u001b[0m\u001b[0;34m)\u001b[0m\u001b[0;34m\u001b[0m\u001b[0;34m\u001b[0m\u001b[0m\n\u001b[1;32m   1152\u001b[0m \u001b[0;34m\u001b[0m\u001b[0m\n\u001b[0;32m-> 1153\u001b[0;31m                 \u001b[0;32mreturn\u001b[0m \u001b[0mself\u001b[0m\u001b[0;34m.\u001b[0m\u001b[0m_getitem_iterable\u001b[0m\u001b[0;34m(\u001b[0m\u001b[0mkey\u001b[0m\u001b[0;34m,\u001b[0m \u001b[0maxis\u001b[0m\u001b[0;34m=\u001b[0m\u001b[0maxis\u001b[0m\u001b[0;34m)\u001b[0m\u001b[0;34m\u001b[0m\u001b[0;34m\u001b[0m\u001b[0m\n\u001b[0m\u001b[1;32m   1154\u001b[0m \u001b[0;34m\u001b[0m\u001b[0m\n\u001b[1;32m   1155\u001b[0m             \u001b[0;31m# nested tuple slicing\u001b[0m\u001b[0;34m\u001b[0m\u001b[0;34m\u001b[0m\u001b[0;34m\u001b[0m\u001b[0m\n",
            "\u001b[0;32m/usr/local/lib/python3.7/dist-packages/pandas/core/indexing.py\u001b[0m in \u001b[0;36m_getitem_iterable\u001b[0;34m(self, key, axis)\u001b[0m\n\u001b[1;32m   1091\u001b[0m \u001b[0;34m\u001b[0m\u001b[0m\n\u001b[1;32m   1092\u001b[0m         \u001b[0;31m# A collection of keys\u001b[0m\u001b[0;34m\u001b[0m\u001b[0;34m\u001b[0m\u001b[0;34m\u001b[0m\u001b[0m\n\u001b[0;32m-> 1093\u001b[0;31m         \u001b[0mkeyarr\u001b[0m\u001b[0;34m,\u001b[0m \u001b[0mindexer\u001b[0m \u001b[0;34m=\u001b[0m \u001b[0mself\u001b[0m\u001b[0;34m.\u001b[0m\u001b[0m_get_listlike_indexer\u001b[0m\u001b[0;34m(\u001b[0m\u001b[0mkey\u001b[0m\u001b[0;34m,\u001b[0m \u001b[0maxis\u001b[0m\u001b[0;34m)\u001b[0m\u001b[0;34m\u001b[0m\u001b[0;34m\u001b[0m\u001b[0m\n\u001b[0m\u001b[1;32m   1094\u001b[0m         return self.obj._reindex_with_indexers(\n\u001b[1;32m   1095\u001b[0m             \u001b[0;34m{\u001b[0m\u001b[0maxis\u001b[0m\u001b[0;34m:\u001b[0m \u001b[0;34m[\u001b[0m\u001b[0mkeyarr\u001b[0m\u001b[0;34m,\u001b[0m \u001b[0mindexer\u001b[0m\u001b[0;34m]\u001b[0m\u001b[0;34m}\u001b[0m\u001b[0;34m,\u001b[0m \u001b[0mcopy\u001b[0m\u001b[0;34m=\u001b[0m\u001b[0;32mTrue\u001b[0m\u001b[0;34m,\u001b[0m \u001b[0mallow_dups\u001b[0m\u001b[0;34m=\u001b[0m\u001b[0;32mTrue\u001b[0m\u001b[0;34m\u001b[0m\u001b[0;34m\u001b[0m\u001b[0m\n",
            "\u001b[0;32m/usr/local/lib/python3.7/dist-packages/pandas/core/indexing.py\u001b[0m in \u001b[0;36m_get_listlike_indexer\u001b[0;34m(self, key, axis)\u001b[0m\n\u001b[1;32m   1312\u001b[0m             \u001b[0mkeyarr\u001b[0m\u001b[0;34m,\u001b[0m \u001b[0mindexer\u001b[0m\u001b[0;34m,\u001b[0m \u001b[0mnew_indexer\u001b[0m \u001b[0;34m=\u001b[0m \u001b[0max\u001b[0m\u001b[0;34m.\u001b[0m\u001b[0m_reindex_non_unique\u001b[0m\u001b[0;34m(\u001b[0m\u001b[0mkeyarr\u001b[0m\u001b[0;34m)\u001b[0m\u001b[0;34m\u001b[0m\u001b[0;34m\u001b[0m\u001b[0m\n\u001b[1;32m   1313\u001b[0m \u001b[0;34m\u001b[0m\u001b[0m\n\u001b[0;32m-> 1314\u001b[0;31m         \u001b[0mself\u001b[0m\u001b[0;34m.\u001b[0m\u001b[0m_validate_read_indexer\u001b[0m\u001b[0;34m(\u001b[0m\u001b[0mkeyarr\u001b[0m\u001b[0;34m,\u001b[0m \u001b[0mindexer\u001b[0m\u001b[0;34m,\u001b[0m \u001b[0maxis\u001b[0m\u001b[0;34m)\u001b[0m\u001b[0;34m\u001b[0m\u001b[0;34m\u001b[0m\u001b[0m\n\u001b[0m\u001b[1;32m   1315\u001b[0m \u001b[0;34m\u001b[0m\u001b[0m\n\u001b[1;32m   1316\u001b[0m         if needs_i8_conversion(ax.dtype) or isinstance(\n",
            "\u001b[0;32m/usr/local/lib/python3.7/dist-packages/pandas/core/indexing.py\u001b[0m in \u001b[0;36m_validate_read_indexer\u001b[0;34m(self, key, indexer, axis)\u001b[0m\n\u001b[1;32m   1372\u001b[0m                 \u001b[0;32mif\u001b[0m \u001b[0muse_interval_msg\u001b[0m\u001b[0;34m:\u001b[0m\u001b[0;34m\u001b[0m\u001b[0;34m\u001b[0m\u001b[0m\n\u001b[1;32m   1373\u001b[0m                     \u001b[0mkey\u001b[0m \u001b[0;34m=\u001b[0m \u001b[0mlist\u001b[0m\u001b[0;34m(\u001b[0m\u001b[0mkey\u001b[0m\u001b[0;34m)\u001b[0m\u001b[0;34m\u001b[0m\u001b[0;34m\u001b[0m\u001b[0m\n\u001b[0;32m-> 1374\u001b[0;31m                 \u001b[0;32mraise\u001b[0m \u001b[0mKeyError\u001b[0m\u001b[0;34m(\u001b[0m\u001b[0;34mf\"None of [{key}] are in the [{axis_name}]\"\u001b[0m\u001b[0;34m)\u001b[0m\u001b[0;34m\u001b[0m\u001b[0;34m\u001b[0m\u001b[0m\n\u001b[0m\u001b[1;32m   1375\u001b[0m \u001b[0;34m\u001b[0m\u001b[0m\n\u001b[1;32m   1376\u001b[0m             \u001b[0mnot_found\u001b[0m \u001b[0;34m=\u001b[0m \u001b[0mlist\u001b[0m\u001b[0;34m(\u001b[0m\u001b[0mensure_index\u001b[0m\u001b[0;34m(\u001b[0m\u001b[0mkey\u001b[0m\u001b[0;34m)\u001b[0m\u001b[0;34m[\u001b[0m\u001b[0mmissing_mask\u001b[0m\u001b[0;34m.\u001b[0m\u001b[0mnonzero\u001b[0m\u001b[0;34m(\u001b[0m\u001b[0;34m)\u001b[0m\u001b[0;34m[\u001b[0m\u001b[0;36m0\u001b[0m\u001b[0;34m]\u001b[0m\u001b[0;34m]\u001b[0m\u001b[0;34m.\u001b[0m\u001b[0munique\u001b[0m\u001b[0;34m(\u001b[0m\u001b[0;34m)\u001b[0m\u001b[0;34m)\u001b[0m\u001b[0;34m\u001b[0m\u001b[0;34m\u001b[0m\u001b[0m\n",
            "\u001b[0;31mKeyError\u001b[0m: \"None of [Index(['çalışmak', 'gökyüzünde', 'ev', 'yapan', 'insanın', 'herkesle', 'iyi',\\n       'geçinmesi'],\\n      dtype='object', name='Orijinal İsmi')] are in the [index]\""
          ]
        }
      ]
    }
  ]
}