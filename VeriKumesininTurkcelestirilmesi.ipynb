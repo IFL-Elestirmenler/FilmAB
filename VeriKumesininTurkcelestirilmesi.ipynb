{
  "nbformat": 4,
  "nbformat_minor": 0,
  "metadata": {
    "colab": {
      "name": "VeriKümesininTürkçeleştirilmesi.ipynb",
      "provenance": [],
      "collapsed_sections": []
    },
    "kernelspec": {
      "name": "python3",
      "display_name": "Python 3"
    },
    "language_info": {
      "name": "python"
    }
  },
  "cells": [
    {
      "cell_type": "code",
      "execution_count": 2,
      "metadata": {
        "id": "D4DSrSk9PiW8"
      },
      "outputs": [],
      "source": [
        "# Veri İşleme ve Analizi için PANDAS Kütüphanesini projemize ekliyoruz.\n",
        "import pandas as pd"
      ]
    },
    {
      "cell_type": "code",
      "source": [
        "# Google Drive'ın içindeki veri kümemize erişmek için Drive'ı Google Colab'a monte ediyoruz.\n",
        "from google.colab import drive\n",
        "drive.mount('/content/drive/')"
      ],
      "metadata": {
        "colab": {
          "base_uri": "https://localhost:8080/"
        },
        "id": "g8ZpPY4-Pmv1",
        "outputId": "a9b2b22b-8006-47ba-f691-e26a3794065c"
      },
      "execution_count": 3,
      "outputs": [
        {
          "output_type": "stream",
          "name": "stdout",
          "text": [
            "Drive already mounted at /content/drive/; to attempt to forcibly remount, call drive.mount(\"/content/drive/\", force_remount=True).\n"
          ]
        }
      ]
    },
    {
      "cell_type": "code",
      "source": [
        "# Veri kümemize erişmek için dosyanın içinde bulunduğu klasörleri belirterek konumunu göstermiş oluyoruz.\n",
        "%cd drive/"
      ],
      "metadata": {
        "colab": {
          "base_uri": "https://localhost:8080/"
        },
        "id": "h47_PvbxT9QD",
        "outputId": "bb1cdb7a-c457-4557-cd02-428e888a34ff"
      },
      "execution_count": 4,
      "outputs": [
        {
          "output_type": "stream",
          "name": "stdout",
          "text": [
            "/content/drive\n"
          ]
        }
      ]
    },
    {
      "cell_type": "code",
      "source": [
        "\n",
        "%cd MyDrive/"
      ],
      "metadata": {
        "colab": {
          "base_uri": "https://localhost:8080/"
        },
        "id": "ElqFYei7Vuz5",
        "outputId": "122f0e69-955d-496b-82f8-18ee709e03a7"
      },
      "execution_count": 5,
      "outputs": [
        {
          "output_type": "stream",
          "name": "stdout",
          "text": [
            "/content/drive/MyDrive\n"
          ]
        }
      ]
    },
    {
      "cell_type": "code",
      "source": [
        "%cd Colab Notebooks/"
      ],
      "metadata": {
        "colab": {
          "base_uri": "https://localhost:8080/"
        },
        "id": "j8uh8jQyVzAH",
        "outputId": "7f6bbe76-08a9-40ab-f845-83d80a7dc385"
      },
      "execution_count": 6,
      "outputs": [
        {
          "output_type": "stream",
          "name": "stdout",
          "text": [
            "/content/drive/MyDrive/Colab Notebooks\n"
          ]
        }
      ]
    },
    {
      "cell_type": "code",
      "source": [
        "# Google Drive içinde Colab Notebooks klasörünün içinde TDDI2022 diye bir klasör oluşturduktan sonra o klasöre erişiyoruz.\n",
        "# Bu klasörü daha önce oluşturmadıysanız %md TDDI2022 komutu veya Google Drive Ara Yüzü ile klasörü oluşturunuz!\n",
        "%cd TDDI2022/\n",
        "\n",
        "# Klasörün içeriğinin görülmesi için\n",
        "%ls"
      ],
      "metadata": {
        "colab": {
          "base_uri": "https://localhost:8080/"
        },
        "id": "aA9Js-QGV31p",
        "outputId": "5dfeafa3-43c7-4518-e876-40f911d6ca22"
      },
      "execution_count": 7,
      "outputs": [
        {
          "output_type": "stream",
          "name": "stdout",
          "text": [
            "/content/drive/MyDrive/Colab Notebooks/TDDI2022\n",
            "veriKumesiOkuma.ipynb  wiki_movie_plots_deduped.csv\n"
          ]
        }
      ]
    },
    {
      "cell_type": "code",
      "source": [
        "# Dosyanın okunmasını sağlıyoruz.\n",
        "df = pd.read_csv('wiki_movie_plots_deduped.csv')\n",
        "df\n",
        "# Veri kümesi hakkında bilgi almak için\n",
        "df.info(verbose=True)"
      ],
      "metadata": {
        "id": "ZMriHlEGPqbV",
        "colab": {
          "base_uri": "https://localhost:8080/"
        },
        "outputId": "3b41cecc-110e-44b9-f4b4-f39d0931f428"
      },
      "execution_count": 8,
      "outputs": [
        {
          "output_type": "stream",
          "name": "stdout",
          "text": [
            "<class 'pandas.core.frame.DataFrame'>\n",
            "RangeIndex: 34886 entries, 0 to 34885\n",
            "Data columns (total 8 columns):\n",
            " #   Column            Non-Null Count  Dtype \n",
            "---  ------            --------------  ----- \n",
            " 0   Release Year      34886 non-null  int64 \n",
            " 1   Title             34886 non-null  object\n",
            " 2   Origin/Ethnicity  34886 non-null  object\n",
            " 3   Director          34886 non-null  object\n",
            " 4   Cast              33464 non-null  object\n",
            " 5   Genre             34886 non-null  object\n",
            " 6   Wiki Page         34886 non-null  object\n",
            " 7   Plot              34886 non-null  object\n",
            "dtypes: int64(1), object(7)\n",
            "memory usage: 2.1+ MB\n"
          ]
        }
      ]
    },
    {
      "cell_type": "code",
      "source": [
        "# Sütun isimlerinin Türkçeleştirilmesi\n",
        "\n",
        "df.rename(columns = {'Release Year':'Çıkış Yılı', 'Title':'Orijinal İsmi','Origin/Ethnicity':'Yapıldığı Ülke','Director':'Yönetmeni','Cast':'Oyuncu Kadrosu','Genre':'Türü','Wiki Page':'Veri Kaynağı','Plot':'Olay Dizisi'}, inplace = True)"
      ],
      "metadata": {
        "id": "yfJPssEZddjO"
      },
      "execution_count": 10,
      "outputs": []
    },
    {
      "cell_type": "code",
      "source": [
        "# Data Frame'in baştan ilk 5 satırını/kaydını gösterir.\n",
        "df.head(5)"
      ],
      "metadata": {
        "id": "ZjC7kL-D0lvc",
        "colab": {
          "base_uri": "https://localhost:8080/",
          "height": 354
        },
        "outputId": "e8a86aaa-42ff-40d0-ce41-b72c282405a3"
      },
      "execution_count": 11,
      "outputs": [
        {
          "output_type": "execute_result",
          "data": {
            "text/plain": [
              "   Çıkış Yılı                     Orijinal İsmi Yapıldığı Ülke  \\\n",
              "0        1901            Kansas Saloon Smashers       American   \n",
              "1        1901     Love by the Light of the Moon       American   \n",
              "2        1901           The Martyred Presidents       American   \n",
              "3        1901  Terrible Teddy, the Grizzly King       American   \n",
              "4        1902            Jack and the Beanstalk       American   \n",
              "\n",
              "                            Yönetmeni Oyuncu Kadrosu     Türü  \\\n",
              "0                             Unknown            NaN  unknown   \n",
              "1                             Unknown            NaN  unknown   \n",
              "2                             Unknown            NaN  unknown   \n",
              "3                             Unknown            NaN  unknown   \n",
              "4  George S. Fleming, Edwin S. Porter            NaN  unknown   \n",
              "\n",
              "                                        Veri Kaynağı  \\\n",
              "0  https://en.wikipedia.org/wiki/Kansas_Saloon_Sm...   \n",
              "1  https://en.wikipedia.org/wiki/Love_by_the_Ligh...   \n",
              "2  https://en.wikipedia.org/wiki/The_Martyred_Pre...   \n",
              "3  https://en.wikipedia.org/wiki/Terrible_Teddy,_...   \n",
              "4  https://en.wikipedia.org/wiki/Jack_and_the_Bea...   \n",
              "\n",
              "                                         Olay Dizisi  \n",
              "0  A bartender is working at a saloon, serving dr...  \n",
              "1  The moon, painted with a smiling face hangs ov...  \n",
              "2  The film, just over a minute long, is composed...  \n",
              "3  Lasting just 61 seconds and consisting of two ...  \n",
              "4  The earliest known adaptation of the classic f...  "
            ],
            "text/html": [
              "\n",
              "  <div id=\"df-64b90f0c-0405-4223-aaef-a407b4533b9a\">\n",
              "    <div class=\"colab-df-container\">\n",
              "      <div>\n",
              "<style scoped>\n",
              "    .dataframe tbody tr th:only-of-type {\n",
              "        vertical-align: middle;\n",
              "    }\n",
              "\n",
              "    .dataframe tbody tr th {\n",
              "        vertical-align: top;\n",
              "    }\n",
              "\n",
              "    .dataframe thead th {\n",
              "        text-align: right;\n",
              "    }\n",
              "</style>\n",
              "<table border=\"1\" class=\"dataframe\">\n",
              "  <thead>\n",
              "    <tr style=\"text-align: right;\">\n",
              "      <th></th>\n",
              "      <th>Çıkış Yılı</th>\n",
              "      <th>Orijinal İsmi</th>\n",
              "      <th>Yapıldığı Ülke</th>\n",
              "      <th>Yönetmeni</th>\n",
              "      <th>Oyuncu Kadrosu</th>\n",
              "      <th>Türü</th>\n",
              "      <th>Veri Kaynağı</th>\n",
              "      <th>Olay Dizisi</th>\n",
              "    </tr>\n",
              "  </thead>\n",
              "  <tbody>\n",
              "    <tr>\n",
              "      <th>0</th>\n",
              "      <td>1901</td>\n",
              "      <td>Kansas Saloon Smashers</td>\n",
              "      <td>American</td>\n",
              "      <td>Unknown</td>\n",
              "      <td>NaN</td>\n",
              "      <td>unknown</td>\n",
              "      <td>https://en.wikipedia.org/wiki/Kansas_Saloon_Sm...</td>\n",
              "      <td>A bartender is working at a saloon, serving dr...</td>\n",
              "    </tr>\n",
              "    <tr>\n",
              "      <th>1</th>\n",
              "      <td>1901</td>\n",
              "      <td>Love by the Light of the Moon</td>\n",
              "      <td>American</td>\n",
              "      <td>Unknown</td>\n",
              "      <td>NaN</td>\n",
              "      <td>unknown</td>\n",
              "      <td>https://en.wikipedia.org/wiki/Love_by_the_Ligh...</td>\n",
              "      <td>The moon, painted with a smiling face hangs ov...</td>\n",
              "    </tr>\n",
              "    <tr>\n",
              "      <th>2</th>\n",
              "      <td>1901</td>\n",
              "      <td>The Martyred Presidents</td>\n",
              "      <td>American</td>\n",
              "      <td>Unknown</td>\n",
              "      <td>NaN</td>\n",
              "      <td>unknown</td>\n",
              "      <td>https://en.wikipedia.org/wiki/The_Martyred_Pre...</td>\n",
              "      <td>The film, just over a minute long, is composed...</td>\n",
              "    </tr>\n",
              "    <tr>\n",
              "      <th>3</th>\n",
              "      <td>1901</td>\n",
              "      <td>Terrible Teddy, the Grizzly King</td>\n",
              "      <td>American</td>\n",
              "      <td>Unknown</td>\n",
              "      <td>NaN</td>\n",
              "      <td>unknown</td>\n",
              "      <td>https://en.wikipedia.org/wiki/Terrible_Teddy,_...</td>\n",
              "      <td>Lasting just 61 seconds and consisting of two ...</td>\n",
              "    </tr>\n",
              "    <tr>\n",
              "      <th>4</th>\n",
              "      <td>1902</td>\n",
              "      <td>Jack and the Beanstalk</td>\n",
              "      <td>American</td>\n",
              "      <td>George S. Fleming, Edwin S. Porter</td>\n",
              "      <td>NaN</td>\n",
              "      <td>unknown</td>\n",
              "      <td>https://en.wikipedia.org/wiki/Jack_and_the_Bea...</td>\n",
              "      <td>The earliest known adaptation of the classic f...</td>\n",
              "    </tr>\n",
              "  </tbody>\n",
              "</table>\n",
              "</div>\n",
              "      <button class=\"colab-df-convert\" onclick=\"convertToInteractive('df-64b90f0c-0405-4223-aaef-a407b4533b9a')\"\n",
              "              title=\"Convert this dataframe to an interactive table.\"\n",
              "              style=\"display:none;\">\n",
              "        \n",
              "  <svg xmlns=\"http://www.w3.org/2000/svg\" height=\"24px\"viewBox=\"0 0 24 24\"\n",
              "       width=\"24px\">\n",
              "    <path d=\"M0 0h24v24H0V0z\" fill=\"none\"/>\n",
              "    <path d=\"M18.56 5.44l.94 2.06.94-2.06 2.06-.94-2.06-.94-.94-2.06-.94 2.06-2.06.94zm-11 1L8.5 8.5l.94-2.06 2.06-.94-2.06-.94L8.5 2.5l-.94 2.06-2.06.94zm10 10l.94 2.06.94-2.06 2.06-.94-2.06-.94-.94-2.06-.94 2.06-2.06.94z\"/><path d=\"M17.41 7.96l-1.37-1.37c-.4-.4-.92-.59-1.43-.59-.52 0-1.04.2-1.43.59L10.3 9.45l-7.72 7.72c-.78.78-.78 2.05 0 2.83L4 21.41c.39.39.9.59 1.41.59.51 0 1.02-.2 1.41-.59l7.78-7.78 2.81-2.81c.8-.78.8-2.07 0-2.86zM5.41 20L4 18.59l7.72-7.72 1.47 1.35L5.41 20z\"/>\n",
              "  </svg>\n",
              "      </button>\n",
              "      \n",
              "  <style>\n",
              "    .colab-df-container {\n",
              "      display:flex;\n",
              "      flex-wrap:wrap;\n",
              "      gap: 12px;\n",
              "    }\n",
              "\n",
              "    .colab-df-convert {\n",
              "      background-color: #E8F0FE;\n",
              "      border: none;\n",
              "      border-radius: 50%;\n",
              "      cursor: pointer;\n",
              "      display: none;\n",
              "      fill: #1967D2;\n",
              "      height: 32px;\n",
              "      padding: 0 0 0 0;\n",
              "      width: 32px;\n",
              "    }\n",
              "\n",
              "    .colab-df-convert:hover {\n",
              "      background-color: #E2EBFA;\n",
              "      box-shadow: 0px 1px 2px rgba(60, 64, 67, 0.3), 0px 1px 3px 1px rgba(60, 64, 67, 0.15);\n",
              "      fill: #174EA6;\n",
              "    }\n",
              "\n",
              "    [theme=dark] .colab-df-convert {\n",
              "      background-color: #3B4455;\n",
              "      fill: #D2E3FC;\n",
              "    }\n",
              "\n",
              "    [theme=dark] .colab-df-convert:hover {\n",
              "      background-color: #434B5C;\n",
              "      box-shadow: 0px 1px 3px 1px rgba(0, 0, 0, 0.15);\n",
              "      filter: drop-shadow(0px 1px 2px rgba(0, 0, 0, 0.3));\n",
              "      fill: #FFFFFF;\n",
              "    }\n",
              "  </style>\n",
              "\n",
              "      <script>\n",
              "        const buttonEl =\n",
              "          document.querySelector('#df-64b90f0c-0405-4223-aaef-a407b4533b9a button.colab-df-convert');\n",
              "        buttonEl.style.display =\n",
              "          google.colab.kernel.accessAllowed ? 'block' : 'none';\n",
              "\n",
              "        async function convertToInteractive(key) {\n",
              "          const element = document.querySelector('#df-64b90f0c-0405-4223-aaef-a407b4533b9a');\n",
              "          const dataTable =\n",
              "            await google.colab.kernel.invokeFunction('convertToInteractive',\n",
              "                                                     [key], {});\n",
              "          if (!dataTable) return;\n",
              "\n",
              "          const docLinkHtml = 'Like what you see? Visit the ' +\n",
              "            '<a target=\"_blank\" href=https://colab.research.google.com/notebooks/data_table.ipynb>data table notebook</a>'\n",
              "            + ' to learn more about interactive tables.';\n",
              "          element.innerHTML = '';\n",
              "          dataTable['output_type'] = 'display_data';\n",
              "          await google.colab.output.renderOutput(dataTable, element);\n",
              "          const docLink = document.createElement('div');\n",
              "          docLink.innerHTML = docLinkHtml;\n",
              "          element.appendChild(docLink);\n",
              "        }\n",
              "      </script>\n",
              "    </div>\n",
              "  </div>\n",
              "  "
            ]
          },
          "metadata": {},
          "execution_count": 11
        }
      ]
    },
    {
      "cell_type": "code",
      "source": [
        "# VERİ ÖN İŞLEME\n",
        "# Verilerimizi analiz etmek için sütunlardaki verilerin değerlerinin sayısını buluyoruz.\n",
        "for sutun in df.columns:\n",
        "  print(sutun,'\\n',40*'-',sep=\"\")\n",
        "  print(df[sutun].value_counts(ascending=True))\n",
        "  print(80*'-')"
      ],
      "metadata": {
        "id": "dwp_Qyoy1Xbc",
        "colab": {
          "base_uri": "https://localhost:8080/"
        },
        "outputId": "f49360a7-4f57-4a4b-ae67-1709d5b9eea3"
      },
      "execution_count": 12,
      "outputs": [
        {
          "output_type": "stream",
          "name": "stdout",
          "text": [
            "Çıkış Yılı\n",
            "----------------------------------------\n",
            "1902       1\n",
            "1904       1\n",
            "1903       2\n",
            "1905       2\n",
            "1906       3\n",
            "        ... \n",
            "2010     825\n",
            "2011     858\n",
            "2012     874\n",
            "2014     929\n",
            "2013    1021\n",
            "Name: Çıkış Yılı, Length: 117, dtype: int64\n",
            "--------------------------------------------------------------------------------\n",
            "Orijinal İsmi\n",
            "----------------------------------------\n",
            "Kansas Saloon Smashers    1\n",
            "Mr. Six                   1\n",
            "Devil and Angel           1\n",
            "Surprise                  1\n",
            "Mojin: The Lost Legend    1\n",
            "                         ..\n",
            "Hero                      6\n",
            "Alice in Wonderland       6\n",
            "Treasure Island           7\n",
            "Cinderella                8\n",
            "The Three Musketeers      8\n",
            "Name: Orijinal İsmi, Length: 32432, dtype: int64\n",
            "--------------------------------------------------------------------------------\n",
            "Yapıldığı Ülke\n",
            "----------------------------------------\n",
            "Maldivian           2\n",
            "Assamese            9\n",
            "Egyptian           67\n",
            "Malaysian          70\n",
            "Turkish            70\n",
            "Punjabi            84\n",
            "Bangladeshi        87\n",
            "Filipino          128\n",
            "Marathi           141\n",
            "Russian           232\n",
            "Bengali           306\n",
            "Kannada           444\n",
            "Chinese           463\n",
            "South_Korean      522\n",
            "Australian        576\n",
            "Canadian          723\n",
            "Hong Kong         791\n",
            "Malayalam        1095\n",
            "Japanese         1188\n",
            "Telugu           1311\n",
            "Tamil            2599\n",
            "Bollywood        2931\n",
            "British          3670\n",
            "American        17377\n",
            "Name: Yapıldığı Ülke, dtype: int64\n",
            "--------------------------------------------------------------------------------\n",
            "Yönetmeni\n",
            "----------------------------------------\n",
            "Director: Richard Curtis       1\n",
            "Wong Chi-ming                  1\n",
            "Flora Lau                      1\n",
            "Ho Hong                        1\n",
            "Stephen Chow Derek Kwok        1\n",
            "                            ... \n",
            "Jules White                   63\n",
            "Lloyd Bacon                   66\n",
            "Hanna-Barbera                 77\n",
            "Michael Curtiz                79\n",
            "Unknown                     1124\n",
            "Name: Yönetmeni, Length: 12593, dtype: int64\n",
            "--------------------------------------------------------------------------------\n",
            "Oyuncu Kadrosu\n",
            "----------------------------------------\n",
            "May Clark                                                                                                                                                                                                                                                                                                             1\n",
            "Eddie Peng, Shawn Dou, Choi Siwon, Wang Luodan, Carlos Chan, Ouyang Nana, Andrew Lin                                                                                                                                                                                                                                  1\n",
            "Zhao Lu, Wu Tianhao, Lin Zijie, Liu Ying, Cheng Yuzhu, Li Chuanying, Zhan Jia, Tao Dian, Shi Jiajia, Yu Shengjun, Dai Jiayi, Dai Chaohang, Liu Shengbo, Yin Xiaoyu, Zhang Yandong, Zhang Zheng, Guan Rui, Shi Xuegang                                                                                                 1\n",
            "Zhang Ziyi, Takeshi Kaneshiro, Song Hye-kyo, Huang Xiaoming, Tong Dawei, Masami Nagasawa, Qin Hailu, Cong Shan, Angeles Woo, Yu Zhen, Faye Yu, Tony Yang, Yang Kuei-mei, Wang Qianyuan, Bowie Lam, Lin Mei-hsiu, Jack Kao, Denny Huang, Kou Chia-jui, Xu Huanhuan, You Yong, Liu Yiwei, Hitomi Kuroki, Johnny Kou     1\n",
            "Xu Jiao, Cheung Siu-fai, Tian Zitian, Lu Siyu, Song Yi, Bi Xiuru                                                                                                                                                                                                                                                      1\n",
            "                                                                                                                                                                                                                                                                                                                     ..\n",
            "Bugs Bunny                                                                                                                                                                                                                                                                                                           36\n",
            "Looney Tunes                                                                                                                                                                                                                                                                                                         37\n",
            "The Three Stooges                                                                                                                                                                                                                                                                                                    47\n",
            "Three Stooges                                                                                                                                                                                                                                                                                                        56\n",
            "Tom and Jerry                                                                                                                                                                                                                                                                                                        80\n",
            "Name: Oyuncu Kadrosu, Length: 32182, dtype: int64\n",
            "--------------------------------------------------------------------------------\n",
            "Türü\n",
            "----------------------------------------\n",
            "lgbt-themed drama             1\n",
            "romantic drama triangle       1\n",
            "drama romance musical         1\n",
            "social biopic                 1\n",
            "war family drama              1\n",
            "                           ... \n",
            "action                     1098\n",
            "horror                     1167\n",
            "comedy                     4379\n",
            "drama                      5964\n",
            "unknown                    6083\n",
            "Name: Türü, Length: 2265, dtype: int64\n",
            "--------------------------------------------------------------------------------\n",
            "Veri Kaynağı\n",
            "----------------------------------------\n",
            "https://en.wikipedia.org/wiki/Kansas_Saloon_Smashers      1\n",
            "https://en.wikipedia.org/wiki/Love_Contractually          1\n",
            "https://en.wikipedia.org/wiki/Cook_Up_a_Storm             1\n",
            "https://en.wikipedia.org/wiki/The_Village_of_No_Return    1\n",
            "https://en.wikipedia.org/wiki/Kung_Fu_Yoga                1\n",
            "                                                         ..\n",
            "https://en.wikipedia.org/wiki/Vettaikaaran_(2009_film)    3\n",
            "https://en.wikipedia.org/wiki/Tamayura                    4\n",
            "https://en.wikipedia.org/wiki/Mani_Malai                  4\n",
            "https://en.wikipedia.org/wiki/Digimon_Adventure_tri.      5\n",
            "https://en.wikipedia.org/wiki/Himitsu_Sentai_Gorenger     5\n",
            "Name: Veri Kaynağı, Length: 34070, dtype: int64\n",
            "--------------------------------------------------------------------------------\n",
            "Olay Dizisi\n",
            "----------------------------------------\n",
            "A bartender is working at a saloon, serving drinks to customers. After he fills a stereotypically Irish man's bucket with beer, Carrie Nation and her followers burst inside. They assault the Irish man, pulling his hat over his eyes and then dumping the beer over his head. The group then begin wrecking the bar, smashing the fixtures, mirrors, and breaking the cash register. The bartender then sprays seltzer water in Nation's face before a group of policemen appear and order everybody to leave.[1]                                                                                                                                                                                                                                                                                                                                                                                                                                                                                                                                                                                                                                                                                                                                                                                                                                                                                                                                                                                                                                                                                                                                                                                                                                                                                                                                                                                                                                                                                                                                                                                                                                                                                                                                                                                                                                                                                                                                                                                                                                                                                                                                                                                                                                                                                                                                                                                                                                                                                                                                                                                                                                                                                                                                                                                                                                                                                                                                                                                                                                                                                                                                                                                                                                                                                                                                                                                                                                                                                                                                                                                                                                                                                                                                                                                                                                                                                                                                                                                                                                                                                                                                                                                                                                                                                                                                                                                                                                                                                            1\n",
            "A story centered on a company that grants wishes to people looking for a day away from their ordinary lives. [3]                                                                                                                                                                                                                                                                                                                                                                                                                                                                                                                                                                                                                                                                                                                                                                                                                                                                                                                                                                                                                                                                                                                                                                                                                                                                                                                                                                                                                                                                                                                                                                                                                                                                                                                                                                                                                                                                                                                                                                                                                                                                                                                                                                                                                                                                                                                                                                                                                                                                                                                                                                                                                                                                                                                                                                                                                                                                                                                                                                                                                                                                                                                                                                                                                                                                                                                                                                                                                                                                                                                                                                                                                                                                                                                                                                                                                                                                                                                                                                                                                                                                                                                                                                                                                                                                                                                                                                                                                                                                                                                                                                                                                                                                                                                                                                                                                                                                                                1\n",
            "A storm is heading to the city of Hong Kong, and with it comes another occurrence so destructive, it vows to bring down everything it touches.\\r\\nA crew of seasoned criminals led by the notorious Cao Nam (Hu Jun), armed with high-powered weapons, pulls off another smooth and violent armored car heist in broad daylight in a crowded street. Whoever tries to get in their way, they will show no mercy. This puts the police force to shame and humiliation.\\r\\nA hardboiled senior police inspector Lui Ming-chit (Andy Lau), hot on the trails of Nam and his tight crew, determines to put an end to this madness that causes the lives of innocent people. But he soon comes face with the cruel reality that the usual police tactics are too futile to send these armed thieves behind bars. Extreme crime requires extreme justice, even if it means crossing his moral line. To Shing-bong (Gordon Lam), an ex-con desperate to leave his criminal past behind, volunteers to be Lui’s informant in exchange for a fresh start with his girlfriend Yin Bing (Yao Chen). But little does he know what hellish situation he is getting himself into.\\r\\nWhile Nam is putting together his next big score, the two colliding forces from both sides of the law, each at the top of their games, will soon face their archenemies. As Lui’s hunt heats up, their ultimate confrontation is about to take place on the streets.\\r\\nAs the storm passes through and the dust settles, whoever survives can hardly cope with its horrifying aftermath.                                                                                                                                                                                                                                                                                                                                                                                                                                                                                                                                                                                                                                                                                                                                                                                                                                                                                                                                                                                                                                                                                                                                                                                                                                                                                                                                                                                                                                                                                                                                                                                                                                                                                                                                                                                                                                                                                                                                                                                                                                                                                                                                                                                                                                                                                                                                                                                                                                                                                                                                                                                                                                                                                                                                                                                                                                                                                                                                                                                                                                                                                                                                                                                                                                                                                                                                                                                                                                                1\n",
            "Cold Blood chances upon the scent of blood while Department Six and the Divine Constabulary are setting up camp in a foggy forest. Running ahead of the others, Cold Blood, Life Snatcher, Iron Hands and Ji Yaohua arrive in front of a locked and seemingly abandoned house. In attempt to break the lock, Cold Blood is attacked by a cannon and barely escapes. He notices the person behind the cannon - Zhuge Zhengwo. Keeping the information to himself, the rest of Department Six and the Divine Constabulary rush into the house to discover the bloodshed of many and there is only one survivor, a man Zhuge Zhengwo identifies as Ouyang Da, someone whose face had disappeared off the pugilist world twelve years ago. Every one else have died of similar wounds, all caused by the same weapon that Cold Blood was attacked with. Zhuge Zhengwo shows keen interest in the incident and promptly asks Sheriff King to turn over the case to the Divine Constabulary. Sheriff King agrees, and Ji Yaohua along with the others in Department Six protest; there have been similar cases of massacres that they have been investigating, each with a death of a man that was supposed to have died twelve years ago. The deaths are all tied to Zhuge Zhengwo, as these men were part of the Gang of Twelve supposedly executed by him when they massacred Sheng Yayu's, now Heartless, family. Department Six strongly believe it is likely that Zhuge Zhengwo had lied about executing the Gang of Twelve and rose to fame, only to silence those that were supposed to have been dead for twelve years now so that his secret would not be found out. Sheriff King believes in his friend but instructs Department Six to continue investigate quietly.\\r\\nMeanwhile, An Shigeng has not died from causing himself explode into flames. His father, Lord An, has him being restored to life with the use of a certain tree-like organism and is planning to usurp the throne at all costs. An Shigeng questions his father's actions and Lord An only replies that everything he does is for the good of his son.\\r\\nJi Yaohua has nightmares about being attacked in her sleep. Restless and convinced someone is out to get her, she is finally kidnapped by Lady Fog, her senior who is working for Lord An, one night. Lady Fog brings her to An Shigeng and Ji Yaohua is shocked to find him alive. However, she begins to work for Lord An after she's given a poisonous pill. In order for her to remain alive she'll need a monthly antidote that only Lord An possesses. Her loyalties are divided and she asks Cold Blood to meet her at a teahouse. The purpose of the rendezvous is to reveal all of the investigations done by Department Six. Cold Blood has Heartless accompany him to the meeting. Heartless is unable to cope with the fact that Zhuge Zhengwo is the prime suspect in the murders. In addition, she intimates that Zhuge Zhengwo may have been lying to her about executing the Gang of Twelve. She hurriedly leaves. Cold Blood quickly follows her. Ji Yaohua is disappointed over the fact that this liaison was not one between herself and Cold Blood.\\r\\nBack at the Divine Constabulary, Cold Blood questions Zhuge Zhengwo and reveals he saw him behind the cannon that day he tried to break the lock of the abandoned house. Zhuge Zhengwo admits that he recognised the weapon used, for it was the very same weapon he was gifted by the Emperor when he served as the chief bodyguard, but he had turned them in to the imperial archives long ago as he did not want to use such weapons of great destruction. He is perplexed by Cold Blood's incessant questions about being the assailant that day at the abandoned house as well as refused answer anything regarding Heartless's family massacre. He asks Cold Blood to give him two days to solve the mystery and Cold Blood agrees. However, before the two days are up, Sheriff King is found dead and all evidence seemingly point to Zhuge Zhengwo as the murderer. Cold Blood's animalistic side gets the better of him and he attacks Zhuge Zhengwo, blaming his acquiesce to the two-day request as the reason behind the death of the man who brought him up. Meanwhile, another member of the Gang of Twelve claims to be meeting up with Zhuge Zhengwo at the very place Sheriff King was found dead, but before any questions can be asked, Heartless kills him to exact her revenge. She is furious that she had been deceived for more than a decade but before she can get any answers from Zhuge Zhengwo, they are promptly arrested by Ji Yaohua who has taken over Department Six; one for the murder of Sheriff King and one for the murder of a key witness.\\r\\nWith their chief in command and a quarter of their team locked up for murder, Cold Blood, Iron Hands and Life Snatcher are at a loss, leaving the Divine Constabulary hanging by a thin thread.    1\n",
            "The entire film happens in a very desolate region of China, in the northwestern deserts. A poacher (Huang Bo) is being arrested by a police officer after capturing a rare falcon, worth 1 million RMB on the black market. A second poacher (Tobgye) kills the police officer with his jeep and tells the first poacher to flee, while he stays behind himself to take responsibility. He hires one of the best lawyers (Xu Zheng) in China for his defense, forcing the lawyer to travel a long distance to get to the town. At the trial, the lawyer gets the poacher acquitted by arguing that the crash happened because the police officer was drunk. The lawyer takes the poacher's car as collateral and begins a long drive back to China's eastern region. While driving, the lawyer is harassed by two people (Wang Shuangbao and Ba Duo) in a truck carrying hay. He throws his lighter at the hay in retaliation, igniting it, and drives ahead.\\r\\nThe second poacher was mad at his car being pawned. He arranges for the first poacher to murder the lawyer on the highway. However, by standing in the middle of the road, pretending that he has car problems in an attempt to trick the lawyer into stopping, the first poacher gets crashed into instead. The lawyer puts him in the backseat, along with his bag, and tries to take him to the nearest rest stop, which is a shanty town, to call for help. He does not realize that that man is the first poacher. When he gets to the shantytown, the first poacher looks like he has died. The lawyer gets scared and decides not to call for help. Instead, he buys gasoline and another lighter. He intends to cover up the crash by cremating the poacher's dead body. But it turns out, the first poacher isn't dead, and upon regaining consciousness he holds the lawyer at gunpoint. A girl from the shanty town (Yu Nan) had stowed away in the trunk, trying to start a new life, and also gets threatened.\\r\\nThe two truck drivers from earlier come upon them, and the poacher kills one and wounds the other, and proceeds to shoot the lawyer non-fatally. He forces the girl to take the car and drive him to a ghost town further on. The falcon, all along, was being held in his bag, and he has scheduled to sell it there to black marketers. The girl crashes the car by accident. She gets rescued by her abusive father and brother, who kill the first poacher. The father tries to take the falcon to the ghost town and sell it for himself, leaving the girl and her brother.\\r\\nThe second poacher, having lost contact with the first, comes upon the lawyer and lets him ride his pickup truck, pretending he will help. He comes upon the girl and her brother and decides to kill the brother, and tries, but fails, to murder the lawyer through carbon monoxide poisoning. He seizes the girl and heads for the ghost town.\\r\\nThe lawyer wakes up and is arrested by a single police officer, but he causes the police car to crash and races to save the girl. The second poacher and the two black marketers murder the girl's father at the ghost town, complete their transaction, and try to kill the girl. They are stopped by the lawyer, who approaches and tricks the black marketers into thinking that the second poacher is working with the police. The second poacher is forced to kill both black marketers. He is about to kill the lawyer and the girl, but the surviving truck driver from earlier saves them before getting killed himself. At this point, the lawyer is finally defenseless. He gets dragged by the second poacher into a truck which is holding some barrels, and is forced to watch as he attempts to run over the girl. The second poacher taunts the lawyer, saying that his heroism was in vain. The lawyer chooses at that moment to throw his lighter a second time, igniting the barrels and killing them both.\\r\\nIn the last scene, the girl is in a dance studio for elementary aged children, and she is telling the instructor (Tao Hong) about the whole sequence of events and how she has been changed. As children come in and the lesson begins, the instructor decides to grant the girl's request to work as her assistant, in spite of her not being qualified.                                                                                                                                                                                                                                                                                                                                                                                                                                                                                                                                                                                                                                                                             1\n",
            "                                                                                                                                                                                                                                                                                                                                                                                                                                                                                                                                                                                                                                                                                                                                                                                                                                                                                                                                                                                                                                                                                                                                                                                                                                                                                                                                                                                                                                                                                                                                                                                                                                                                                                                                                                                                                                                                                                                                                                                                                                                                                                                                                                                                                                                                                                                                                                                                                                                                                                                                                                                                                                                                                                                                                                                                                                                                                                                                                                                                                                                                                                                                                                                                                                                                                                                                                                                                                                                                                                                                                                                                                                                                                                                                                                                                                                                                                                                                                                                                                                                                                                                                                                                                                                                                                                                                                                                                                                                                                                                                                                                                                                                                                                                                                                                                                                                                                                                                                                                                               ..\n",
            "In this film, Vinu Mohan / Ramana plays an upcoming musician. After finishing a recording, he is on his way home when he sees an artist creating art on the street and he is stricken with awe. Onlookers are giving the artist a few rupees each but not as much as the artist expected. At this point, it begins to rain and the drawing begins to dissolve as the onlookers disperse. Vinu Mohan / Ramana hands over his entire 'bata' for the day to the artist.                                                                                                                                                                                                                                                                                                                                                                                                                                                                                                                                                                                                                                                                                                                                                                                                                                                                                                                                                                                                                                                                                                                                                                                                                                                                                                                                                                                                                                                                                                                                                                                                                                                                                                                                                                                                                                                                                                                                                                                                                                                                                                                                                                                                                                                                                                                                                                                                                                                                                                                                                                                                                                                                                                                                                                                                                                                                                                                                                                                                                                                                                                                                                                                                                                                                                                                                                                                                                                                                                                                                                                                                                                                                                                                                                                                                                                                                                                                                                                                                                                                                                                                                                                                                                                                                                                                                                                                                                                                                                                                                            4\n",
            "This film deals with untouchability in a lighter vein, about a bhagavathar (P. B. Rangachari) misbehaving with a domestic help (Jaya). She visits him with her husband. Scared, and with his wife (K.S. Adhilakshmi) at home adding to it, the man apologises for his conduct. Comedy actor T.V. Sethuraman plays his disciple and M.R. Subramaniam plays the village headman.\\r\\nComedy actor T.S. Durairaj, who also produced films and had success as race-horse-owner at the Guindy Races, played the ‘minor’ in this film (In those days, a ‘minor’ was usually a young man with a loads of inherited money with which he led a care-free life). He refuses to marry the woman suggested by his mother, and joins a mutt to learn how to impress women. Here he falls in love with a married washerwoman (Adhilakshmi). Complications arise when the husband comes to know of it and takes his wife away. What happens to the ‘minor’ and how he learns his lessons forms the rest of the film. M.R. Swaminathan played the husband and Sethuraman contributed to the fun with his wisecracks.\\r\\nThis film is not a comedy, but a tale of godly devotion dealt with humour. Stage and screen actor P.B. Rangachari plays Adigal, a devotee of saint-poet Appar. When Appar comes to lunch at Adigalar’s house, his young son is sent to the back yard to fetch a banana leaf. He is bitten by a poisonous snake and dies. Adigal and his wife (Meenakshi) hide the son’s body and get ready to serve Appar. Swami hides the body and asks them where their son is.\\r\\nThe truth comes out, and Appar, with divine help, brings the boy back to life. Singer-actor V.N. Sundaram plays the saint-poet. V.N. Janaki, wife of MGR (also Chief Minister of Tamil Nadu for a brief while) does a dance sequence along with the now-forgotten dancer Krishna Bai.\\r\\nThis is a spoof on the familiar tale of Markandeya who is blessed with eternal youth. Kali N. Ratnam plays Lord Yama while T.R. Ramachandran is Markandeya. Kannada stage and screen actor K. Hiranaiah is Chitragupta, Yama’s record-keeper.                                                                                                                                                                                                                                                                                                                                                                                                                                                                                                                                                                                                                                                                                                                                                                                                                                                                                                                                                                                                                                                                                                                                                                                                                                                                                                                                                                                                                                                                                                                                                                                                                                                                                                                                                                                                                                                                                                                                                                                                                                                                                                                                                                                                                                                                                                                                                                                                                                                                                                                                                                                                                                                                                                                                                                                                                                                                                              4\n",
            "The films take place three years after the events of Digimon Adventure 02 and focuses on the first season DigiDestined and their partner Digimon. A mysterious anomaly is causing distortions in the Real World and Digimon are being plagued by a virus that turns them hostile. These circumstances lead to the DigiDestined being reunited with their partner Digimon. Joined by another DigiDestined named Meiko Mochizuki and her partner Meicoomon, the DigiDestined must not only deal with the infected Digimon and the mystery behind them but also with the responsibilities and burdens of growing up.                                                                                                                                                                                                                                                                                                                                                                                                                                                                                                                                                                                                                                                                                                                                                                                                                                                                                                                                                                                                                                                                                                                                                                                                                                                                                                                                                                                                                                                                                                                                                                                                                                                                                                                                                                                                                                                                                                                                                                                                                                                                                                                                                                                                                                                                                                                                                                                                                                                                                                                                                                                                                                                                                                                                                                                                                                                                                                                                                                                                                                                                                                                                                                                                                                                                                                                                                                                                                                                                                                                                                                                                                                                                                                                                                                                                                                                                                                                                                                                                                                                                                                                                                                                                                                                                                                                                                                                               5\n",
            "When world peace is threatened by the emergence of a terrorist group called the Black Cross Army, a peacekeeping organization called EAGLE (for Earth Guard League)[citation needed] is formed by the United Nations to combat the threat. The Black Cross Army sends five operatives to destroy each EAGLE branch in Japan, killing everyone except for five agents. These surviving agents are summoned to a secret base located underneath the snack shop \"Gon\", where they are recruited by EAGLE Japan's commander, Gonpachi Edogawa. They become the Secret Squad Gorenger and are given electronic battlesuits that endow them with superhuman strength and speed. The five dedicate themselves to stopping the Black Cross Army and its leader, Black Cross Führer.                                                                                                                                                                                                                                                                                                                                                                                                                                                                                                                                                                                                                                                                                                                                                                                                                                                                                                                                                                                                                                                                                                                                                                                                                                                                                                                                                                                                                                                                                                                                                                                                                                                                                                                                                                                                                                                                                                                                                                                                                                                                                                                                                                                                                                                                                                                                                                                                                                                                                                                                                                                                                                                                                                                                                                                                                                                                                                                                                                                                                                                                                                                                                                                                                                                                                                                                                                                                                                                                                                                                                                                                                                                                                                                                                                                                                                                                                                                                                                                                                                                                                                                                                                                                                                     5\n",
            "(マッスル人参争奪！超人大戦争, Massuru Ninjin Soudatsu! Choujin Dai Sensou)\\r\\nIn order to save a princess, Mantarou and the gang must find a special ginseng. They are later joined by Kevin Mask.                                                                                                                                                                                                                                                                                                                                                                                                                                                                                                                                                                                                                                                                                                                                                                                                                                                                                                                                                                                                                                                                                                                                                                                                                                                                                                                                                                                                                                                                                                                                                                                                                                                                                                                                                                                                                                                                                                                                                                                                                                                                                                                                                                                                                                                                                                                                                                                                                                                                                                                                                                                                                                                                                                                                                                                                                                                                                                                                                                                                                                                                                                                                                                                                                                                                                                                                                                                                                                                                                                                                                                                                                                                                                                                                                                                                                                                                                                                                                                                                                                                                                                                                                                                                                                                                                                                                                                                                                                                                                                                                                                                                                                                                                                                                                                                                                           6\n",
            "Name: Olay Dizisi, Length: 33869, dtype: int64\n",
            "--------------------------------------------------------------------------------\n"
          ]
        }
      ]
    },
    {
      "cell_type": "code",
      "source": [
        "# VERİ ÖN İŞLEME\n",
        "# Gereksiz karakterlerin silinmesi\n",
        "df['Olay Dizisi'].str.strip(\"\\n\\r\")"
      ],
      "metadata": {
        "colab": {
          "base_uri": "https://localhost:8080/"
        },
        "id": "TfXpExXEnXzd",
        "outputId": "acb46422-edf6-4d91-b64f-61c1318755f4"
      },
      "execution_count": 13,
      "outputs": [
        {
          "output_type": "execute_result",
          "data": {
            "text/plain": [
              "0        A bartender is working at a saloon, serving dr...\n",
              "1        The moon, painted with a smiling face hangs ov...\n",
              "2        The film, just over a minute long, is composed...\n",
              "3        Lasting just 61 seconds and consisting of two ...\n",
              "4        The earliest known adaptation of the classic f...\n",
              "                               ...                        \n",
              "34881    The film begins in 1919, just after World War ...\n",
              "34882    Two musicians, Salih and Gürkan, described the...\n",
              "34883    Zafer, a sailor living with his mother Döndü i...\n",
              "34884    The film centres around a young woman named Am...\n",
              "34885    The writer Orhan Şahin returns to İstanbul aft...\n",
              "Name: Olay Dizisi, Length: 34886, dtype: object"
            ]
          },
          "metadata": {},
          "execution_count": 13
        }
      ]
    },
    {
      "cell_type": "code",
      "source": [
        "# ÇEVİRİYİ txtai ile yaparsak çeviri için 24 gün beklememiz gerekiyor!\n",
        "\n",
        "#    # txtai ve ilgili tüm bağlılıklarını yüklememiz gerekiyor.\n",
        "#    %%capture\n",
        "#    !pip install git+https://github.com/neuml/txtai#egg=txtai[pipeline]\n",
        "#    # Çeviri Modelini Çağırıyoruz / Oluşturuyoruz\n",
        "#    %%capture\n",
        "#    from txtai.pipeline import Translation\n",
        "#    # Çeviri modelinin örnek kullanımı:\n",
        "#    cevirici = Translation()\n",
        "#    cevrilecekVeri = \"The sky is blue, the stars are far\"\n",
        "#    ceviri = cevirici(cevrilecekVeri, \"tr\")\n",
        "#    print(ceviri)\n",
        "#\n",
        "#    # Google Colab'ta txtai çeviricisini kullanarak veri kümesi oluşturulması\n",
        "#    cevirici = Translation()\n",
        "#    satirSayisi, sutunSayisi = df.shape\n",
        "#    for satir in range(satirSayisi):\n",
        "#      cevrilecekVeri = df['Olay Dizisi'][satir]\n",
        "#      ceviri = cevirici(cevrilecekVeri, \"tr\")\n",
        "#      df.at[satir,'Olay Dizisi']=ceviri"
      ],
      "metadata": {
        "id": "LH2yGGoszjE6"
      },
      "execution_count": 14,
      "outputs": []
    },
    {
      "cell_type": "code",
      "source": [
        "# Çeviri yapmak için googletrans kütüphanesini indiriyoruz.\n",
        "!pip install googletrans"
      ],
      "metadata": {
        "id": "oEIdLqDYN3n3",
        "colab": {
          "base_uri": "https://localhost:8080/"
        },
        "outputId": "ae4d572c-ff4b-42b8-f081-7c7bdb8469e4"
      },
      "execution_count": 15,
      "outputs": [
        {
          "output_type": "stream",
          "name": "stdout",
          "text": [
            "Looking in indexes: https://pypi.org/simple, https://us-python.pkg.dev/colab-wheels/public/simple/\n",
            "Requirement already satisfied: googletrans in /usr/local/lib/python3.7/dist-packages (3.1.0a0)\n",
            "Requirement already satisfied: httpx==0.13.3 in /usr/local/lib/python3.7/dist-packages (from googletrans) (0.13.3)\n",
            "Requirement already satisfied: hstspreload in /usr/local/lib/python3.7/dist-packages (from httpx==0.13.3->googletrans) (2022.7.10)\n",
            "Requirement already satisfied: sniffio in /usr/local/lib/python3.7/dist-packages (from httpx==0.13.3->googletrans) (1.2.0)\n",
            "Requirement already satisfied: httpcore==0.9.* in /usr/local/lib/python3.7/dist-packages (from httpx==0.13.3->googletrans) (0.9.1)\n",
            "Requirement already satisfied: certifi in /usr/local/lib/python3.7/dist-packages (from httpx==0.13.3->googletrans) (2022.6.15)\n",
            "Requirement already satisfied: rfc3986<2,>=1.3 in /usr/local/lib/python3.7/dist-packages (from httpx==0.13.3->googletrans) (1.5.0)\n",
            "Requirement already satisfied: chardet==3.* in /usr/local/lib/python3.7/dist-packages (from httpx==0.13.3->googletrans) (3.0.4)\n",
            "Requirement already satisfied: idna==2.* in /usr/local/lib/python3.7/dist-packages (from httpx==0.13.3->googletrans) (2.10)\n",
            "Requirement already satisfied: h11<0.10,>=0.8 in /usr/local/lib/python3.7/dist-packages (from httpcore==0.9.*->httpx==0.13.3->googletrans) (0.9.0)\n",
            "Requirement already satisfied: h2==3.* in /usr/local/lib/python3.7/dist-packages (from httpcore==0.9.*->httpx==0.13.3->googletrans) (3.2.0)\n",
            "Requirement already satisfied: hpack<4,>=3.0 in /usr/local/lib/python3.7/dist-packages (from h2==3.*->httpcore==0.9.*->httpx==0.13.3->googletrans) (3.0.0)\n",
            "Requirement already satisfied: hyperframe<6,>=5.2.0 in /usr/local/lib/python3.7/dist-packages (from h2==3.*->httpcore==0.9.*->httpx==0.13.3->googletrans) (5.2.0)\n"
          ]
        }
      ]
    },
    {
      "cell_type": "code",
      "source": [
        "# Google Translate'in daha kararlı çalışması için 3.1.0a0 sürümünü yüklememiz gerekiyor!\n",
        "!pip3 uninstall googletrans\n",
        "!pip3 install googletrans==3.1.0a0"
      ],
      "metadata": {
        "id": "Bnji3qJoPf4j",
        "colab": {
          "base_uri": "https://localhost:8080/"
        },
        "outputId": "20c440f1-53eb-4866-aa7c-5e1c1a8d100c"
      },
      "execution_count": 16,
      "outputs": [
        {
          "output_type": "stream",
          "name": "stdout",
          "text": [
            "Found existing installation: googletrans 3.1.0a0\n",
            "Uninstalling googletrans-3.1.0a0:\n",
            "  Would remove:\n",
            "    /usr/local/bin/translate\n",
            "    /usr/local/lib/python3.7/dist-packages/googletrans-3.1.0a0.dist-info/*\n",
            "    /usr/local/lib/python3.7/dist-packages/googletrans/*\n",
            "Proceed (y/n)? y\n",
            "  Successfully uninstalled googletrans-3.1.0a0\n",
            "Looking in indexes: https://pypi.org/simple, https://us-python.pkg.dev/colab-wheels/public/simple/\n",
            "Collecting googletrans==3.1.0a0\n",
            "  Using cached googletrans-3.1.0a0-py3-none-any.whl\n",
            "Requirement already satisfied: httpx==0.13.3 in /usr/local/lib/python3.7/dist-packages (from googletrans==3.1.0a0) (0.13.3)\n",
            "Requirement already satisfied: sniffio in /usr/local/lib/python3.7/dist-packages (from httpx==0.13.3->googletrans==3.1.0a0) (1.2.0)\n",
            "Requirement already satisfied: hstspreload in /usr/local/lib/python3.7/dist-packages (from httpx==0.13.3->googletrans==3.1.0a0) (2022.7.10)\n",
            "Requirement already satisfied: idna==2.* in /usr/local/lib/python3.7/dist-packages (from httpx==0.13.3->googletrans==3.1.0a0) (2.10)\n",
            "Requirement already satisfied: certifi in /usr/local/lib/python3.7/dist-packages (from httpx==0.13.3->googletrans==3.1.0a0) (2022.6.15)\n",
            "Requirement already satisfied: chardet==3.* in /usr/local/lib/python3.7/dist-packages (from httpx==0.13.3->googletrans==3.1.0a0) (3.0.4)\n",
            "Requirement already satisfied: httpcore==0.9.* in /usr/local/lib/python3.7/dist-packages (from httpx==0.13.3->googletrans==3.1.0a0) (0.9.1)\n",
            "Requirement already satisfied: rfc3986<2,>=1.3 in /usr/local/lib/python3.7/dist-packages (from httpx==0.13.3->googletrans==3.1.0a0) (1.5.0)\n",
            "Requirement already satisfied: h11<0.10,>=0.8 in /usr/local/lib/python3.7/dist-packages (from httpcore==0.9.*->httpx==0.13.3->googletrans==3.1.0a0) (0.9.0)\n",
            "Requirement already satisfied: h2==3.* in /usr/local/lib/python3.7/dist-packages (from httpcore==0.9.*->httpx==0.13.3->googletrans==3.1.0a0) (3.2.0)\n",
            "Requirement already satisfied: hpack<4,>=3.0 in /usr/local/lib/python3.7/dist-packages (from h2==3.*->httpcore==0.9.*->httpx==0.13.3->googletrans==3.1.0a0) (3.0.0)\n",
            "Requirement already satisfied: hyperframe<6,>=5.2.0 in /usr/local/lib/python3.7/dist-packages (from h2==3.*->httpcore==0.9.*->httpx==0.13.3->googletrans==3.1.0a0) (5.2.0)\n",
            "Installing collected packages: googletrans\n",
            "Successfully installed googletrans-3.1.0a0\n"
          ]
        }
      ]
    },
    {
      "cell_type": "code",
      "source": [
        "# Google Colab'ta Google Translator çeviricisinin nasıl kullanıldığına bir örnek görelim.\n",
        "from googletrans import Translator\n",
        "googleCevirici = Translator()\n",
        "cevrilecekVeri = 'This English text have been translated to Turkish by beeing used Google Translator'\n",
        "cevrilen = googleCevirici.translate(cevrilecekVeri,dest='tr').text\n",
        "print(cevrilen)"
      ],
      "metadata": {
        "colab": {
          "base_uri": "https://localhost:8080/"
        },
        "id": "fQjYbRbJ7BsA",
        "outputId": "2fad6d61-1998-4503-ccc2-2bc838dd89cf"
      },
      "execution_count": 17,
      "outputs": [
        {
          "output_type": "stream",
          "name": "stdout",
          "text": [
            "Bu İngilizce metin Google Translate kullanılarak Türkçe'ye çevrilmiştir.\n"
          ]
        }
      ]
    },
    {
      "cell_type": "code",
      "source": [
        "# Google Colab'ta Google Translator çeviricisini kullanarak veri kümesi oluşturulması\n",
        "from googletrans import Translator\n",
        "cevirici = Translator()\n",
        "satirSayisi, sutunSayisi = df.shape\n",
        "for satir in range(satirSayisi):\n",
        "  cevrilecekVeri = df['Olay Dizisi'][satir]\n",
        "  cevrilecekVeri2 = df['Yapıldığı Ülke'] [satir]\n",
        "  cevrilecekVeri3 = df['Türü'][satir]\n",
        "  ceviri = cevirici.translate(cevrilecekVeri, dest = \"tr\").text\n",
        "  ceviri2 = cevirici.translate(cevrilecekVeri2, dest = \"tr\").text\n",
        "  ceviri3 = cevirici.translate(cevrilecekVeri3, dest = \"tr\").text\n",
        "  df.at[satir,'Olay Dizisi']=ceviri\n",
        "  df.at[satir,'Yapıldığı Ülke']=ceviri2\n",
        "  df.at[satir,'Türü']=ceviri3"
      ],
      "metadata": {
        "id": "j4WKvxgmSdtS"
      },
      "execution_count": 21,
      "outputs": []
    },
    {
      "cell_type": "code",
      "source": [
        "df.to_csv('filmOzetleriVeriKumesi_TURKCE.csv')\n",
        "# Çeviri yapılıp Türkçe Veri Kümesi oluşturulacak"
      ],
      "metadata": {
        "id": "VzFXWPNMX6Sb"
      },
      "execution_count": 22,
      "outputs": []
    }
  ]
}
